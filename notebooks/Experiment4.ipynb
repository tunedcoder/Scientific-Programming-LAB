{
 "cells": [
  {
   "cell_type": "code",
   "execution_count": 1,
   "id": "106bff6f-09e5-4832-a9f0-7983ea499cb9",
   "metadata": {},
   "outputs": [],
   "source": [
    "import numpy as np"
   ]
  },
  {
   "cell_type": "code",
   "execution_count": 2,
   "id": "38f77427-13d9-4c85-a71d-4337ee8ee573",
   "metadata": {},
   "outputs": [],
   "source": [
    "A = np.array([[17, 24, 1, 8, 15],\n",
    "[23, 5, 7, 14, 16],\n",
    "[ 4, 6, 13, 20, 22],\n",
    "[10, 12, 19, 21, 3],\n",
    "[11, 18, 25, 2, 9]])"
   ]
  },
  {
   "cell_type": "code",
   "execution_count": 3,
   "id": "db948365-fadb-4c61-8414-228939380f5a",
   "metadata": {},
   "outputs": [
    {
     "name": "stdout",
     "output_type": "stream",
     "text": [
      "Magic Square\n"
     ]
    }
   ],
   "source": [
    "if (A.sum(axis=0).all() == A.sum(axis = 1).all() == np.diag(np.fliplr(A)).all() == np.diag(A).all()):\n",
    "    print(\"Magic Square\")"
   ]
  },
  {
   "cell_type": "code",
   "execution_count": null,
   "id": "63e37bc6-2c47-46b0-a43f-d15caf22064f",
   "metadata": {},
   "outputs": [],
   "source": []
  }
 ],
 "metadata": {
  "kernelspec": {
   "display_name": "Python 3 (ipykernel)",
   "language": "python",
   "name": "python3"
  },
  "language_info": {
   "codemirror_mode": {
    "name": "ipython",
    "version": 3
   },
   "file_extension": ".py",
   "mimetype": "text/x-python",
   "name": "python",
   "nbconvert_exporter": "python",
   "pygments_lexer": "ipython3",
   "version": "3.8.10"
  }
 },
 "nbformat": 4,
 "nbformat_minor": 5
}
