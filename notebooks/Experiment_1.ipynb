{
 "cells": [
  {
   "cell_type": "markdown",
   "metadata": {
    "id": "9E4DI4StbeTu"
   },
   "source": [
    "# 20BEC027 Scientific Programming Experiment 1\n"
   ]
  },
  {
   "cell_type": "code",
   "execution_count": 1,
   "metadata": {},
   "outputs": [
    {
     "name": "stdout",
     "output_type": "stream",
     "text": [
      "list of arguments ['../cli_args.py', '5', '3']\n",
      "5 3\n"
     ]
    }
   ],
   "source": [
    "!python ../cli_args.py 5 3"
   ]
  },
  {
   "cell_type": "code",
   "execution_count": 2,
   "metadata": {
    "colab": {
     "base_uri": "https://localhost:8080/"
    },
    "id": "SX21jNenLdVX",
    "outputId": "1650b87c-cd4f-4d42-f821-1eacddde8b0d"
   },
   "outputs": [
    {
     "name": "stdin",
     "output_type": "stream",
     "text": [
      "Enter A: 10\n",
      "Enter B: 5\n",
      "Enter Operator:  *\n"
     ]
    }
   ],
   "source": [
    "a= int(input(\"Enter A:\"))\n",
    "b= int(input(\"Enter B:\"))\n",
    "op = input(\"Enter Operator: \")"
   ]
  },
  {
   "cell_type": "code",
   "execution_count": 3,
   "metadata": {
    "id": "7NRYUa5mRu7z"
   },
   "outputs": [],
   "source": [
    "# this is an comment"
   ]
  },
  {
   "cell_type": "code",
   "execution_count": 4,
   "metadata": {
    "id": "QKUxFMNtOxRB"
   },
   "outputs": [],
   "source": [
    "if op==\"+\":\n",
    "  ans = a+b\n",
    "elif op ==\"-\":\n",
    "  ans = a-b\n",
    "elif op ==\"*\" or op == \"x\":\n",
    "  ans = a*b\n",
    "elif op ==\"/\":\n",
    "  ans =a/b\n",
    "elif op ==\"%\":\n",
    "  ans = a%b\n",
    "elif op ==\"e\" or op ==\"**\":\n",
    "  ans = a**b\n"
   ]
  },
  {
   "cell_type": "code",
   "execution_count": 5,
   "metadata": {
    "id": "z-NNPP8vPXeF"
   },
   "outputs": [
    {
     "name": "stdout",
     "output_type": "stream",
     "text": [
      "The output of operation * on 10 and 5 is 50\n"
     ]
    }
   ],
   "source": [
    "print(f\"The output of operation {op} on {a} and {b} is {ans}\")"
   ]
  },
  {
   "cell_type": "code",
   "execution_count": 6,
   "metadata": {
    "id": "JFOd_b6gPZRn"
   },
   "outputs": [
    {
     "name": "stdin",
     "output_type": "stream",
     "text": [
      "Enter A: 10\n",
      "Enter B: 2\n",
      "Enter Operator:  +\n"
     ]
    },
    {
     "name": "stdout",
     "output_type": "stream",
     "text": [
      "The output of operation + on 10 and 2 is 12\n"
     ]
    },
    {
     "name": "stdin",
     "output_type": "stream",
     "text": [
      "Continue Calculator (Y/N): n\n"
     ]
    }
   ],
   "source": [
    "q=\"\"\n",
    "def cal(f,s,op):\n",
    "  if op==\"+\":\n",
    "    ans = f+s\n",
    "  elif op ==\"-\":\n",
    "    ans = f-s\n",
    "  elif op ==\"*\" or op == \"x\":\n",
    "    ans = f*s\n",
    "  elif op ==\"/\":\n",
    "    ans =f/s\n",
    "    \n",
    "  elif op ==\"%\":\n",
    "    ans = f%s\n",
    "  elif op ==\"e\" or op ==\"**\":\n",
    "    ans = f**s\n",
    "  \n",
    "  return ans\n",
    "\n",
    "\n",
    "while True:\n",
    "    a= int(input(\"Enter A:\"))\n",
    "    b= int(input(\"Enter B:\"))\n",
    "    op = input(\"Enter Operator: \")\n",
    "    ans = cal(a,b,op)\n",
    "    print(f\"The output of operation {op} on {a} and {b} is {ans}\")\n",
    "    q= str(input(\"Continue Calculator (Y/N):\"))\n",
    "    if q ==\"N\" or \"n\":\n",
    "        break"
   ]
  },
  {
   "cell_type": "code",
   "execution_count": 7,
   "metadata": {
    "id": "zYuTLBJYbu_C"
   },
   "outputs": [],
   "source": [
    "def logcal(a,b,op):\n",
    "  if op ==\"and\" or op ==\"&\":\n",
    "    ans = a and b\n",
    "  elif op==\"or\" or op==\"||\":\n",
    "    ans = a or b\n",
    "  elif op==\"not\" or op ==\"!\":\n",
    "    ans = not a\n",
    "  \n",
    "  return ans"
   ]
  },
  {
   "cell_type": "code",
   "execution_count": 8,
   "metadata": {
    "colab": {
     "base_uri": "https://localhost:8080/"
    },
    "id": "BnOyU7owTkEB",
    "outputId": "1967ceb0-5691-40c4-d4a1-8c3879ee57a3"
   },
   "outputs": [
    {
     "name": "stdin",
     "output_type": "stream",
     "text": [
      "Enter A: 9\n",
      "Enter B: 0\n",
      "Enter Operator:  and\n"
     ]
    },
    {
     "name": "stdout",
     "output_type": "stream",
     "text": [
      "The output of operation and on True and False is False\n"
     ]
    },
    {
     "name": "stdin",
     "output_type": "stream",
     "text": [
      "Continue Calculator (Y/N): n\n"
     ]
    },
    {
     "name": "stdout",
     "output_type": "stream",
     "text": [
      "Done\n"
     ]
    }
   ],
   "source": [
    "\n",
    "while True:\n",
    "    a= bool(int(input(\"Enter A:\")))\n",
    "    b= bool(int(input(\"Enter B:\")))\n",
    "  # print(b)\n",
    "    op = input(\"Enter Operator: \")\n",
    "    ans = logcal(a,b,op)\n",
    "    print(f\"The output of operation {op} on {a} and {b} is {ans}\")\n",
    "    q= str(input(\"Continue Calculator (Y/N):\"))\n",
    "    if q ==\"N\" or \"n\":\n",
    "        break\n",
    "print(\"Done\") "
   ]
  },
  {
   "cell_type": "code",
   "execution_count": 9,
   "metadata": {
    "id": "DlzngDvqehi4"
   },
   "outputs": [],
   "source": [
    "a =False"
   ]
  },
  {
   "cell_type": "code",
   "execution_count": 10,
   "metadata": {
    "colab": {
     "base_uri": "https://localhost:8080/"
    },
    "id": "jLn5THELfkDL",
    "outputId": "f0106682-856a-4295-e44b-fa370fd67f8e"
   },
   "outputs": [
    {
     "data": {
      "text/plain": [
       "False"
      ]
     },
     "execution_count": 10,
     "metadata": {},
     "output_type": "execute_result"
    }
   ],
   "source": [
    "a"
   ]
  },
  {
   "cell_type": "code",
   "execution_count": 11,
   "metadata": {
    "colab": {
     "base_uri": "https://localhost:8080/"
    },
    "id": "uvCut2rYfn9Q",
    "outputId": "94741cd4-bbd4-4c98-9915-838ae2da405a"
   },
   "outputs": [
    {
     "name": "stdin",
     "output_type": "stream",
     "text": [
      "Enter Start:  5\n",
      "Enter End:  26\n",
      "Enter Step:  3\n"
     ]
    },
    {
     "name": "stdout",
     "output_type": "stream",
     "text": [
      "5\n",
      "8\n",
      "11\n",
      "14\n",
      "17\n",
      "20\n",
      "23\n"
     ]
    }
   ],
   "source": [
    "start = int(input(\"Enter Start: \"))\n",
    "stop = int(input(\"Enter End: \"))\n",
    "step = int(input(\"Enter Step: \"))\n",
    "\n",
    "for i in range(start,stop,step):\n",
    "  print(i)"
   ]
  },
  {
   "cell_type": "code",
   "execution_count": 12,
   "metadata": {
    "colab": {
     "base_uri": "https://localhost:8080/"
    },
    "id": "K0cl7cU1hBLY",
    "outputId": "6fe2214a-823b-4349-dc7c-e57067eec7f3"
   },
   "outputs": [
    {
     "name": "stdin",
     "output_type": "stream",
     "text": [
      "Enter Side 1:  3\n",
      "Enter Side 2:  4\n",
      "Enter Side 3:  5\n"
     ]
    },
    {
     "name": "stdout",
     "output_type": "stream",
     "text": [
      "Area of triangle with sides [3, 4, 5] is 6.0\n"
     ]
    }
   ],
   "source": [
    "sides =[]\n",
    "n_sides = 3\n",
    "for s in range(3):\n",
    "  sides.append(int(input(f\"Enter Side {s+1}: \")))\n",
    "\n",
    "if (not((sides[0]>= sides[1]+sides[2]) or (sides[1]>= sides[0]+sides[2]) or (sides[2]>= sides[0]+sides[1]))):\n",
    "  p = sum(sides)\n",
    "  s = p/2\n",
    "\n",
    "  import math\n",
    "\n",
    "  area = math.sqrt(s*(s-sides[0])*(s-sides[1])*(s-sides[2]))\n",
    "  print(f\"Area of triangle with sides {sides} is {area}\")\n",
    "else:\n",
    "  print(\"No Triangle Formed\")"
   ]
  },
  {
   "cell_type": "code",
   "execution_count": 13,
   "metadata": {
    "id": "sdgwKN99iJG5"
   },
   "outputs": [],
   "source": [
    "def hcf(a,b):\n",
    "  if a ==0 and b==0:\n",
    "    return 0\n",
    "  if (a == b): return a\n",
    "  if (a > b):\n",
    "      return hcf(a - b, b)\n",
    "            \n",
    "  return hcf(a, b - a)\n",
    "\n",
    "def coprime(a, b):\n",
    "  if hcf(a,b) == 1:\n",
    "    return True\n",
    "  else:\n",
    "    return False"
   ]
  },
  {
   "cell_type": "code",
   "execution_count": 14,
   "metadata": {
    "id": "cQmgFZYqjHc0"
   },
   "outputs": [
    {
     "data": {
      "text/plain": [
       "False"
      ]
     },
     "execution_count": 14,
     "metadata": {},
     "output_type": "execute_result"
    }
   ],
   "source": [
    "coprime(2,10)"
   ]
  },
  {
   "cell_type": "code",
   "execution_count": 15,
   "metadata": {},
   "outputs": [],
   "source": [
    "def string_manipulate(in_s):\n",
    "    list_of_chars = []\n",
    "    out_s = []\n",
    "    for c in in_s:\n",
    "        if c in list_of_chars:\n",
    "            out_s.append(\"*\")\n",
    "        else:\n",
    "            list_of_chars.append(c)\n",
    "            out_s.append(c)\n",
    "    return ''.join(out_s)"
   ]
  },
  {
   "cell_type": "code",
   "execution_count": 16,
   "metadata": {},
   "outputs": [
    {
     "data": {
      "text/plain": [
       "'bal*o*n'"
      ]
     },
     "execution_count": 16,
     "metadata": {},
     "output_type": "execute_result"
    }
   ],
   "source": [
    "string_manipulate(\"balloon\")"
   ]
  },
  {
   "cell_type": "code",
   "execution_count": 17,
   "metadata": {},
   "outputs": [],
   "source": [
    "def num_to_words(num):\n",
    "    num_dict = {\n",
    "        \"0\": \"Zero\",\n",
    "        \"1\": \"One\",\n",
    "        \"2\": \"Two\",\n",
    "        \"3\": \"Three\",\n",
    "        \"4\": \"Four\",\n",
    "        \"5\": \"Five\",\n",
    "        \"6\": \"Six\",\n",
    "        \"7\": \"Seven\",\n",
    "        \"8\": \"Eight\",\n",
    "        \"9\": \"Nine\"\n",
    "    }\n",
    "    out_s = []\n",
    "    for c in str(num):\n",
    "        out_s.append(num_dict[c])\n",
    "    \n",
    "    return \" \".join(out_s)  "
   ]
  },
  {
   "cell_type": "code",
   "execution_count": 18,
   "metadata": {},
   "outputs": [
    {
     "data": {
      "text/plain": [
       "'Four Five Two'"
      ]
     },
     "execution_count": 18,
     "metadata": {},
     "output_type": "execute_result"
    }
   ],
   "source": [
    "num_to_words(452)"
   ]
  },
  {
   "cell_type": "code",
   "execution_count": 19,
   "metadata": {},
   "outputs": [],
   "source": [
    "def rec_num(n,count):\n",
    "    if(count<=0):\n",
    "        return\n",
    "    else:\n",
    "        print(n,end='')\n",
    "        n=n+1\n",
    "        count=count-1\n",
    "        rec_num(n,count)"
   ]
  },
  {
   "cell_type": "code",
   "execution_count": 22,
   "metadata": {},
   "outputs": [
    {
     "name": "stdin",
     "output_type": "stream",
     "text": [
      "Enter number 6\n"
     ]
    }
   ],
   "source": [
    "in_x = int(input(\"Enter number\"))"
   ]
  },
  {
   "cell_type": "code",
   "execution_count": 23,
   "metadata": {},
   "outputs": [
    {
     "name": "stdout",
     "output_type": "stream",
     "text": [
      "67891011"
     ]
    }
   ],
   "source": [
    "rec_num(in_x,in_x)"
   ]
  }
 ],
 "metadata": {
  "colab": {
   "collapsed_sections": [],
   "name": "Experiment 1.ipynb",
   "provenance": []
  },
  "kernelspec": {
   "display_name": "Python 3 (ipykernel)",
   "language": "python",
   "name": "python3"
  },
  "language_info": {
   "codemirror_mode": {
    "name": "ipython",
    "version": 3
   },
   "file_extension": ".py",
   "mimetype": "text/x-python",
   "name": "python",
   "nbconvert_exporter": "python",
   "pygments_lexer": "ipython3",
   "version": "3.8.10"
  }
 },
 "nbformat": 4,
 "nbformat_minor": 4
}
