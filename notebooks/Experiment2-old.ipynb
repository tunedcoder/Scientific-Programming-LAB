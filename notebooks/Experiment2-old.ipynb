{
 "cells": [
  {
   "cell_type": "code",
   "execution_count": 1,
   "id": "92d7b943-1d09-4a3a-81d3-db986963cbb0",
   "metadata": {},
   "outputs": [
    {
     "name": "stdin",
     "output_type": "stream",
     "text": [
      "Enter S:  5\n",
      "Enter X:  2\n",
      "Enter M:  5\n"
     ]
    }
   ],
   "source": [
    "s = float(input(\"Enter S: \"))\n",
    "x = float(input(\"Enter X: \"))\n",
    "m = float(input(\"Enter M: \"))"
   ]
  },
  {
   "cell_type": "code",
   "execution_count": 2,
   "id": "0aa6b732-403e-406a-8abd-1931cb39bf64",
   "metadata": {},
   "outputs": [],
   "source": [
    "import math\n",
    "import numpy as np\n",
    "\n",
    "def bellcurve(x,s,m):\n",
    "    return (math.exp(-0.5 * ((x-m)/s)**2))/(s*(2*math.pi)**2)"
   ]
  },
  {
   "cell_type": "code",
   "execution_count": 3,
   "id": "52155cc9-2f0f-42c6-8bd5-c0a7343db458",
   "metadata": {},
   "outputs": [
    {
     "data": {
      "text/plain": [
       "0.004231528324068789"
      ]
     },
     "execution_count": 3,
     "metadata": {},
     "output_type": "execute_result"
    }
   ],
   "source": [
    "bellcurve(x,s,m)"
   ]
  },
  {
   "cell_type": "code",
   "execution_count": 4,
   "id": "a229d879-2d06-40f9-ad51-1902ee9e5bd9",
   "metadata": {
    "tags": []
   },
   "outputs": [],
   "source": [
    "def kmph_to_mps(a):\n",
    "    return a/3.6"
   ]
  },
  {
   "cell_type": "code",
   "execution_count": 5,
   "id": "236c034b-94c3-47d9-a4c2-af01fa3e2f6a",
   "metadata": {},
   "outputs": [],
   "source": [
    "def stopping_distance(v_o,mu):\n",
    "    g = 9.8\n",
    "    return ((kmph_to_mps(v_o)**2)/(mu*g))/2"
   ]
  },
  {
   "cell_type": "code",
   "execution_count": 6,
   "id": "4c495de6-95ae-4e1c-b740-7d2a20e46fb0",
   "metadata": {},
   "outputs": [
    {
     "data": {
      "text/plain": [
       "32.806332409507014"
      ]
     },
     "execution_count": 6,
     "metadata": {},
     "output_type": "execute_result"
    }
   ],
   "source": [
    "stopping_distance(120,0.3)\n",
    "stopping_distance(50,0.3)"
   ]
  },
  {
   "cell_type": "code",
   "execution_count": 7,
   "id": "b7302f86-2bce-4a4f-8e52-b18b0a0b7309",
   "metadata": {},
   "outputs": [],
   "source": []
  },
  {
   "cell_type": "code",
   "execution_count": 8,
   "id": "33db0d43-97fd-4018-8062-f6114a141b86",
   "metadata": {},
   "outputs": [
    {
     "ename": "NameError",
     "evalue": "name 'bell' is not defined",
     "output_type": "error",
     "traceback": [
      "\u001b[0;31m---------------------------------------------------------------------------\u001b[0m",
      "\u001b[0;31mNameError\u001b[0m                                 Traceback (most recent call last)",
      "Input \u001b[0;32mIn [8]\u001b[0m, in \u001b[0;36m<cell line: 2>\u001b[0;34m()\u001b[0m\n\u001b[1;32m      1\u001b[0m x \u001b[38;5;241m=\u001b[39m np\u001b[38;5;241m.\u001b[39mlinspace(\u001b[38;5;241m-\u001b[39m\u001b[38;5;241m10\u001b[39m,\u001b[38;5;241m10\u001b[39m,\u001b[38;5;241m100\u001b[39m)\n\u001b[0;32m----> 2\u001b[0m y \u001b[38;5;241m=\u001b[39m np\u001b[38;5;241m.\u001b[39marray(\u001b[43mbell\u001b[49m)\n",
      "\u001b[0;31mNameError\u001b[0m: name 'bell' is not defined"
     ]
    }
   ],
   "source": []
  },
  {
   "cell_type": "code",
   "execution_count": null,
   "id": "8a3dec00-d4d3-4a9c-a92b-3a5b69732f34",
   "metadata": {},
   "outputs": [],
   "source": []
  },
  {
   "cell_type": "code",
   "execution_count": null,
   "id": "01139552-fabb-4d47-b725-abce64f9b17e",
   "metadata": {},
   "outputs": [],
   "source": []
  }
 ],
 "metadata": {
  "kernelspec": {
   "display_name": "20bec027",
   "language": "python",
   "name": "20bec027"
  },
  "language_info": {
   "codemirror_mode": {
    "name": "ipython",
    "version": 3
   },
   "file_extension": ".py",
   "mimetype": "text/x-python",
   "name": "python",
   "nbconvert_exporter": "python",
   "pygments_lexer": "ipython3",
   "version": "3.8.10"
  }
 },
 "nbformat": 4,
 "nbformat_minor": 5
}
