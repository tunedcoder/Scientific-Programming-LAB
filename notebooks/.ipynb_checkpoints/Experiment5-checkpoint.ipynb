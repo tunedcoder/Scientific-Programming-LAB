{
 "cells": [
  {
   "cell_type": "code",
   "execution_count": 1,
   "id": "106bff6f-09e5-4832-a9f0-7983ea499cb9",
   "metadata": {},
   "outputs": [],
   "source": [
    "import numpy as np"
   ]
  },
  {
   "cell_type": "code",
   "execution_count": 2,
   "id": "38f77427-13d9-4c85-a71d-4337ee8ee573",
   "metadata": {},
   "outputs": [],
   "source": [
    "A = np.array([[17, 24, 1, 8, 15],\n",
    "[23, 5, 7, 14, 16],\n",
    "[ 4, 6, 13, 20, 22],\n",
    "[10, 12, 19, 21, 3],\n",
    "[11, 18, 25, 2, 9]])"
   ]
  },
  {
   "cell_type": "code",
   "execution_count": 7,
   "id": "db948365-fadb-4c61-8414-228939380f5a",
   "metadata": {},
   "outputs": [
    {
     "ename": "SyntaxError",
     "evalue": "invalid syntax (3969148958.py, line 1)",
     "output_type": "error",
     "traceback": [
      "\u001b[0;36m  Input \u001b[0;32mIn [8]\u001b[0;36m\u001b[0m\n\u001b[0;31m    print(\"Magic Square\" if A.sum(axis=0).all() == A.sum(axis = 1).all() == np.diag(np.fliplr(A)).all() == np.diag(A).all())\u001b[0m\n\u001b[0m                                                                                                                           ^\u001b[0m\n\u001b[0;31mSyntaxError\u001b[0m\u001b[0;31m:\u001b[0m invalid syntax\n"
     ]
    }
   ],
   "source": [
    "if (A.sum(axis=0).all() == A.sum(axis = 1).all() == np.diag(np.fliplr(A)).all() == np.diag(A).all()):\n",
    "    print(\"Magic Square\")"
   ]
  },
  {
   "cell_type": "code",
   "execution_count": null,
   "id": "c8542358-8569-4a77-a01d-cee875f9d841",
   "metadata": {},
   "outputs": [],
   "source": []
  }
 ],
 "metadata": {
  "kernelspec": {
   "display_name": "Python 3 (ipykernel)",
   "language": "python",
   "name": "python3"
  },
  "language_info": {
   "codemirror_mode": {
    "name": "ipython",
    "version": 3
   },
   "file_extension": ".py",
   "mimetype": "text/x-python",
   "name": "python",
   "nbconvert_exporter": "python",
   "pygments_lexer": "ipython3",
   "version": "3.8.10"
  }
 },
 "nbformat": 4,
 "nbformat_minor": 5
}
