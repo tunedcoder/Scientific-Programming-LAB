{
 "cells": [
  {
   "cell_type": "code",
   "execution_count": 1,
   "id": "1db16230-a7ce-4156-b49a-40bad3e41509",
   "metadata": {},
   "outputs": [],
   "source": [
    "import numpy as np"
   ]
  },
  {
   "cell_type": "code",
   "execution_count": 8,
   "id": "6e77b7cf-9c4c-4955-9f45-edeb0e486b8f",
   "metadata": {},
   "outputs": [],
   "source": [
    "area = np.array([35,37,39,40,43,48,50,55,60,65,70,75,80,85,90,95,100])\n",
    "prices =np.array([13,17,15,16,18,19,20,25,35,37,38,40,43,44,50,54,60])\n",
    "\n",
    "def mse(y_true,y_pred):\n",
    "    return ((np.array(y_true)-np.array(y_prices))**2).sum()"
   ]
  },
  {
   "cell_type": "code",
   "execution_count": 10,
   "id": "9a82bad9-b667-4a7c-ba39-7c983dd7795b",
   "metadata": {},
   "outputs": [],
   "source": [
    "def find_line(X,y):\n",
    "    cross_v = lambda x,y: (x*y).sum() - (len(x)*x.mean()*y.mean())\n",
    "    return (cross_v(X,y)/cross(x,x), )"
   ]
  },
  {
   "cell_type": "code",
   "execution_count": null,
   "id": "495bfdaf-f180-4bf2-9dec-b61f6a938945",
   "metadata": {},
   "outputs": [],
   "source": []
  }
 ],
 "metadata": {
  "kernelspec": {
   "display_name": "20bec027",
   "language": "python",
   "name": "20bec027"
  },
  "language_info": {
   "codemirror_mode": {
    "name": "ipython",
    "version": 3
   },
   "file_extension": ".py",
   "mimetype": "text/x-python",
   "name": "python",
   "nbconvert_exporter": "python",
   "pygments_lexer": "ipython3",
   "version": "3.8.10"
  }
 },
 "nbformat": 4,
 "nbformat_minor": 5
}
