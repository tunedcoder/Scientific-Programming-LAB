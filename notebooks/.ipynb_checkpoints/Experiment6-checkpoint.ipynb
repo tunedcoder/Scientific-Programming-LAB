{
 "cells": [
  {
   "cell_type": "code",
   "execution_count": 1,
   "id": "2f0bcfa3-115e-4f31-b8d2-57639b10e9c9",
   "metadata": {},
   "outputs": [],
   "source": [
    "class Bank(dict):\n",
    "    def __init__(self,name,num,at):\n",
    "        self.name = name\n",
    "        self.acc_num = num\n",
    "        self.acc_type = at\n",
    "        self.balance =0\n",
    "        self.intrest=0\n",
    "        \n",
    "    def deposit(self,amt):\n",
    "        self.balance += amt\n",
    "        \n",
    "    def withdraw(self,amt):\n",
    "        self.balance -= amt\n",
    "        \n",
    "    def findInterest(self):\n",
    "        if self.balance >= 500000:\n",
    "            self.intrest = self.balance * 0.08\n",
    "        elif self.balance >= 300000:\n",
    "            self.intrest = self.balance * 0.07\n",
    "        elif self.balance >= 100000:\n",
    "            self.intrest = self.balance * 0.05\n",
    "        else:\n",
    "            self.intrest = self.balance * 0.03\n",
    "        \n",
    "        return self.intrest"
   ]
  },
  {
   "cell_type": "code",
   "execution_count": 2,
   "id": "8e1aa3f6-08d5-4792-9d3b-86f2ee87e966",
   "metadata": {},
   "outputs": [],
   "source": [
    "p1 = Bank(\"Karan\", 69,\"Savings\")"
   ]
  },
  {
   "cell_type": "code",
   "execution_count": 3,
   "id": "153b2a00-8f93-4bbe-807e-1bd71037b383",
   "metadata": {},
   "outputs": [],
   "source": [
    "p1.deposit(700000)"
   ]
  },
  {
   "cell_type": "code",
   "execution_count": 4,
   "id": "57275207-ecc0-4e6d-b0ac-6a798599c8d4",
   "metadata": {},
   "outputs": [
    {
     "data": {
      "text/plain": [
       "700000"
      ]
     },
     "execution_count": 4,
     "metadata": {},
     "output_type": "execute_result"
    }
   ],
   "source": [
    "p1.balance"
   ]
  },
  {
   "cell_type": "code",
   "execution_count": 5,
   "id": "55eccdff-305e-4788-bb61-6c136aae6c8a",
   "metadata": {},
   "outputs": [],
   "source": [
    "p1.deposit(200)"
   ]
  },
  {
   "cell_type": "code",
   "execution_count": 6,
   "id": "3df2e3c7-4f33-4ad3-a952-a1702102eb1a",
   "metadata": {},
   "outputs": [
    {
     "data": {
      "text/plain": [
       "700200"
      ]
     },
     "execution_count": 6,
     "metadata": {},
     "output_type": "execute_result"
    }
   ],
   "source": [
    "p1.balance"
   ]
  },
  {
   "cell_type": "code",
   "execution_count": 7,
   "id": "9d252886-7af3-4080-9740-20ee31d75e2c",
   "metadata": {},
   "outputs": [],
   "source": [
    "p1.withdraw(p1.findInterest())"
   ]
  },
  {
   "cell_type": "code",
   "execution_count": 8,
   "id": "eb093e6f-0efa-4b4c-94c9-18159364c50f",
   "metadata": {},
   "outputs": [
    {
     "data": {
      "text/plain": [
       "644184.0"
      ]
     },
     "execution_count": 8,
     "metadata": {},
     "output_type": "execute_result"
    }
   ],
   "source": [
    "p1.balance"
   ]
  },
  {
   "cell_type": "code",
   "execution_count": 34,
   "id": "79873cad-71b5-4e7c-a7e0-9745c7c883fd",
   "metadata": {},
   "outputs": [
    {
     "data": {
      "text/plain": [
       "0"
      ]
     },
     "execution_count": 34,
     "metadata": {},
     "output_type": "execute_result"
    }
   ],
   "source": [
    "p1.findInterest()"
   ]
  },
  {
   "cell_type": "code",
   "execution_count": null,
   "id": "7602a221-ce5f-4d5d-aa69-4cb9a76176d9",
   "metadata": {},
   "outputs": [],
   "source": []
  }
 ],
 "metadata": {
  "kernelspec": {
   "display_name": "20bec027",
   "language": "python",
   "name": "20bec027"
  },
  "language_info": {
   "codemirror_mode": {
    "name": "ipython",
    "version": 3
   },
   "file_extension": ".py",
   "mimetype": "text/x-python",
   "name": "python",
   "nbconvert_exporter": "python",
   "pygments_lexer": "ipython3",
   "version": "3.8.10"
  }
 },
 "nbformat": 4,
 "nbformat_minor": 5
}
