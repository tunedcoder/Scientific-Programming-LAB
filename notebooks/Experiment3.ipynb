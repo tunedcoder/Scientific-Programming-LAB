{
 "cells": [
  {
   "cell_type": "code",
   "execution_count": 30,
   "id": "3a79bc27-315e-4e5b-8d8e-b7636d2ca41c",
   "metadata": {},
   "outputs": [],
   "source": [
    "from IPython.core.interactiveshell import InteractiveShell\n",
    "InteractiveShell.ast_node_interactivity = \"all\"\n",
    "\n",
    "import re\n",
    "def clean_str(s):\n",
    "    return s.strip(\"\\n\").strip(\" \")"
   ]
  },
  {
   "cell_type": "code",
   "execution_count": 2,
   "id": "6f5fcca0-e404-4467-b33d-0cb239ee7480",
   "metadata": {},
   "outputs": [],
   "source": [
    "data_dir={\n",
    "    \"char_dir\": {},\n",
    "    \"Words\": {},\n",
    "    \"Vowel_Words\":[],\n",
    "}\n",
    "with open(\"../poem.txt\") as f:\n",
    "    c = f.read()\n",
    "    for w in set(c):\n",
    "        data_dir[\"char_dir\"][w] = c.count(w)\n",
    "    for w in set(re.split(\" |\\n\",c)):\n",
    "        data_dir[\"Words\"][w] = c.count(w)\n",
    "    data_dir[\"blankspaces\"] = data_dir[\"char_dir\"][' ']\n",
    "    data_dir[\"lower case\"] = sum([data_dir[\"char_dir\"][c] for c in data_dir[\"char_dir\"].keys() if ord(c) in range(ord(\"a\"),ord(\"z\")+1)])\n",
    "    data_dir[\"Upper case\"] = sum([data_dir[\"char_dir\"][c] for c in data_dir[\"char_dir\"].keys() if ord(c) in range(ord(\"A\"),ord(\"Z\")+1)])\n",
    "    data_dir[\"Vowel_Words\"].extend(i for i in data_dir[\"Words\"] if i and i[0] in ['a','e','i','o','u','A','E','I','O','U'])"
   ]
  },
  {
   "cell_type": "code",
   "execution_count": 3,
   "id": "15f256b5-690e-4965-9b98-5e2b2bfc2e03",
   "metadata": {
    "scrolled": true,
    "tags": []
   },
   "outputs": [
    {
     "data": {
      "text/plain": [
       "{'char_dir': {'\\n': 20,\n",
       "  'y': 23,\n",
       "  'v': 14,\n",
       "  '.': 5,\n",
       "  'H': 4,\n",
       "  'a': 105,\n",
       "  'd': 52,\n",
       "  'o': 75,\n",
       "  'e': 143,\n",
       "  'R': 2,\n",
       "  'n': 98,\n",
       "  'f': 19,\n",
       "  '!': 1,\n",
       "  'W': 4,\n",
       "  ':': 4,\n",
       "  'r': 74,\n",
       "  'M': 2,\n",
       "  'l': 59,\n",
       "  'Y': 2,\n",
       "  'g': 60,\n",
       "  'p': 12,\n",
       "  'm': 24,\n",
       "  't': 98,\n",
       "  'c': 21,\n",
       "  'T': 3,\n",
       "  'P': 3,\n",
       "  'i': 84,\n",
       "  ' ': 308,\n",
       "  'C': 2,\n",
       "  '-': 1,\n",
       "  'O': 1,\n",
       "  'k': 16,\n",
       "  'w': 20,\n",
       "  's': 62,\n",
       "  'U': 2,\n",
       "  'h': 76,\n",
       "  'N': 2,\n",
       "  'j': 2,\n",
       "  'S': 5,\n",
       "  ',': 34,\n",
       "  'I': 7,\n",
       "  'b': 17,\n",
       "  \"'\": 1,\n",
       "  'F': 4,\n",
       "  'u': 42,\n",
       "  'A': 3,\n",
       "  'L': 3,\n",
       "  'B': 6,\n",
       "  ';': 2},\n",
       " 'Words': {'': 1628,\n",
       "  'back': 1,\n",
       "  'seen': 3,\n",
       "  'Come': 1,\n",
       "  'those': 1,\n",
       "  'that': 1,\n",
       "  'children': 1,\n",
       "  'answered': 1,\n",
       "  'people,': 1,\n",
       "  'laughter': 1,\n",
       "  'wrist': 1,\n",
       "  'another': 1,\n",
       "  'lifted': 1,\n",
       "  'dog': 1,\n",
       "  'once': 1,\n",
       "  'magnetic': 1,\n",
       "  'they': 2,\n",
       "  'Shoveling,': 1,\n",
       "  'white': 1,\n",
       "  'against': 2,\n",
       "  'brawling,': 1,\n",
       "  'alive': 1,\n",
       "  'go': 1,\n",
       "  'Under': 2,\n",
       "  'teeth,': 1,\n",
       "  'hunger.': 1,\n",
       "  'Flinging': 1,\n",
       "  'tall': 1,\n",
       "  'dust': 1,\n",
       "  'for': 3,\n",
       "  'World,': 1,\n",
       "  'them': 3,\n",
       "  'is': 9,\n",
       "  'the': 25,\n",
       "  'pitted': 1,\n",
       "  'are': 4,\n",
       "  'farm': 1,\n",
       "  'amid': 1,\n",
       "  'lamps': 1,\n",
       "  'at': 8,\n",
       "  'Big': 1,\n",
       "  'wanton': 1,\n",
       "  'soft': 1,\n",
       "  'Fierce': 1,\n",
       "  'tell': 3,\n",
       "  'Player': 2,\n",
       "  'turn': 1,\n",
       "  'Shoulders:': 1,\n",
       "  'gunman': 1,\n",
       "  'job': 2,\n",
       "  'and': 17,\n",
       "  'And': 3,\n",
       "  'little': 1,\n",
       "  'all': 2,\n",
       "  'stormy,': 1,\n",
       "  'Building,': 1,\n",
       "  'curses': 1,\n",
       "  'Planning,': 1,\n",
       "  'singing': 1,\n",
       "  'never': 1,\n",
       "  'is:': 1,\n",
       "  'Nation.': 1,\n",
       "  'you': 5,\n",
       "  'Laughing': 3,\n",
       "  'Butcher,': 1,\n",
       "  'it': 13,\n",
       "  'crooked': 1,\n",
       "  'savage': 1,\n",
       "  'again.': 1,\n",
       "  'wilderness,': 1,\n",
       "  'bold': 1,\n",
       "  'I': 7,\n",
       "  'Bareheaded,': 1,\n",
       "  'They': 1,\n",
       "  'Butcher': 2,\n",
       "  'Railroads': 2,\n",
       "  'answer:': 1,\n",
       "  'has': 1,\n",
       "  'vivid': 1,\n",
       "  'me': 7,\n",
       "  'toil': 1,\n",
       "  'free': 1,\n",
       "  'Bragging': 1,\n",
       "  'who': 2,\n",
       "  'half-naked,': 1,\n",
       "  'husky,': 2,\n",
       "  'cunning.': 1,\n",
       "  'pulse,': 1,\n",
       "  'to': 11,\n",
       "  'brawling': 2,\n",
       "  'smoke,': 1,\n",
       "  'a': 105,\n",
       "  'them:': 1,\n",
       "  'as': 6,\n",
       "  'slugger': 1,\n",
       "  'cities;': 1,\n",
       "  'heart': 1,\n",
       "  'head': 2,\n",
       "  'piling': 1,\n",
       "  'under': 3,\n",
       "  'action,': 1,\n",
       "  'Freight': 2,\n",
       "  'Wrecking,': 1,\n",
       "  'Yes,': 1,\n",
       "  'even': 1,\n",
       "  'sneer': 2,\n",
       "  'ribs': 1,\n",
       "  'marks': 1,\n",
       "  'painted': 1,\n",
       "  'lost': 1,\n",
       "  'fighter': 1,\n",
       "  'Handler': 2,\n",
       "  'man': 2,\n",
       "  'On': 1,\n",
       "  'show': 1,\n",
       "  'more': 1,\n",
       "  'having': 1,\n",
       "  'women': 2,\n",
       "  'them,': 1,\n",
       "  'your': 1,\n",
       "  'lapping': 1,\n",
       "  'reply': 1,\n",
       "  'Maker,': 2,\n",
       "  'rebuilding,': 1,\n",
       "  'over': 1,\n",
       "  'give': 1,\n",
       "  'burden': 1,\n",
       "  'be': 3,\n",
       "  'have': 3,\n",
       "  'coarse': 1,\n",
       "  'my': 4,\n",
       "  'proud': 2,\n",
       "  'laughs,': 1,\n",
       "  'cunning': 2,\n",
       "  'Tool': 2,\n",
       "  'laughs': 2,\n",
       "  'wicked': 1,\n",
       "  'Youth,': 1,\n",
       "  'destiny': 1,\n",
       "  'Handler;': 1,\n",
       "  'city': 2,\n",
       "  'with': 5,\n",
       "  'brutal': 1,\n",
       "  'sweating,': 1,\n",
       "  'boys.': 1,\n",
       "  'terrible': 1,\n",
       "  'Hog': 2,\n",
       "  'set': 1,\n",
       "  'true': 1,\n",
       "  'Laughing!': 1,\n",
       "  'on': 8,\n",
       "  'young': 1,\n",
       "  'so': 3,\n",
       "  'believe': 1,\n",
       "  'an': 26,\n",
       "  'gas': 1,\n",
       "  'Stormy,': 1,\n",
       "  'faces': 1,\n",
       "  'breaking,': 1,\n",
       "  'say': 1,\n",
       "  'of': 10,\n",
       "  'City': 1,\n",
       "  'city,': 1,\n",
       "  'tongue': 1,\n",
       "  'job,': 1,\n",
       "  'here': 1,\n",
       "  'this': 1,\n",
       "  'battle,': 1,\n",
       "  'kill': 2,\n",
       "  'Wheat,': 2,\n",
       "  'his': 4,\n",
       "  'mouth,': 1,\n",
       "  'Stacker': 2,\n",
       "  'strong': 1,\n",
       "  'ignorant': 1,\n",
       "  'luring': 1,\n",
       "  'laughing': 3,\n",
       "  \"Nation's\": 1},\n",
       " 'Vowel_Words': ['answered',\n",
       "  'another',\n",
       "  'once',\n",
       "  'against',\n",
       "  'alive',\n",
       "  'Under',\n",
       "  'is',\n",
       "  'are',\n",
       "  'amid',\n",
       "  'at',\n",
       "  'and',\n",
       "  'And',\n",
       "  'all',\n",
       "  'is:',\n",
       "  'it',\n",
       "  'again.',\n",
       "  'I',\n",
       "  'answer:',\n",
       "  'a',\n",
       "  'as',\n",
       "  'under',\n",
       "  'action,',\n",
       "  'even',\n",
       "  'On',\n",
       "  'over',\n",
       "  'on',\n",
       "  'an',\n",
       "  'of',\n",
       "  'ignorant'],\n",
       " 'blankspaces': 308,\n",
       " 'lower case': 1196,\n",
       " 'Upper case': 55}"
      ]
     },
     "execution_count": 3,
     "metadata": {},
     "output_type": "execute_result"
    }
   ],
   "source": [
    "data_dir"
   ]
  },
  {
   "cell_type": "code",
   "execution_count": 27,
   "id": "08722235-c393-4231-b7a3-d9977439805e",
   "metadata": {},
   "outputs": [
    {
     "data": {
      "text/plain": [
       "12"
      ]
     },
     "execution_count": 27,
     "metadata": {},
     "output_type": "execute_result"
    },
    {
     "data": {
      "text/plain": [
       "8"
      ]
     },
     "execution_count": 27,
     "metadata": {},
     "output_type": "execute_result"
    },
    {
     "data": {
      "text/plain": [
       "11"
      ]
     },
     "execution_count": 27,
     "metadata": {},
     "output_type": "execute_result"
    }
   ],
   "source": [
    "emp_dict = {}\n",
    "with open(\"../file1.txt\") as f1, open(\"../file2.txt\") as f2:\n",
    "    f1_lines = f1.readlines()\n",
    "    f2_lines = f2.readlines()\n",
    "    for i in range(0,len(f1_lines)):\n",
    "        emp_id = f1_lines[i].split(\",\")[0]\n",
    "        emp_dict[emp_id] = {\n",
    "            \"id\": emp_id,\n",
    "            \"name\":clean_str(f1_lines[i].split(\",\")[1]),\n",
    "            \"hourly rate\":clean_str(f1_lines[i].split(\",\")[2]),\n",
    "        }\n",
    "    for i in range(0,len(f2_lines)):\n",
    "        emp_id = f2_lines[i].split(\",\")[0]\n",
    "        emp_dict[emp_id][\"working hours\"]= clean_str(f2_lines[i].split(\",\")[-1]),\n",
    "    \n",
    "    for e in emp_dict:\n",
    "        emp_dict[e][\"wages\"] = emp_dict[e][\"hourly rate\"] * emp_dict[e][\"working hours\"]\n",
    "        \n",
    "f_out = open(\"../salary.txt\",'w+')\n",
    "for emp in emp_dict:\n",
    "    f_out.write(f\"{emp_dict[emp]['id']},{emp_dict[emp]['wages']} \\n\")\n",
    "f_out.close()"
   ]
  },
  {
   "cell_type": "code",
   "execution_count": 46,
   "id": "06f112c0-2ba3-43f0-a609-34a071a1a3a1",
   "metadata": {},
   "outputs": [],
   "source": [
    "input_file =\"../t_values.txt\"\n",
    "f = open(input_file)\n",
    "lines = f.readlines()\n",
    "v0 = float(clean_str(lines[0].split(\" \")[-1]))\n",
    "lines = lines[2:]\n",
    "f.close()\n",
    "lines = (' '.join(lines)).split(' ')\n",
    "values = [float(clean_str(c)) for c in lines]"
   ]
  },
  {
   "cell_type": "code",
   "execution_count": 36,
   "id": "7353758b-6178-4eac-af6f-f38ec180ed03",
   "metadata": {},
   "outputs": [],
   "source": [
    "def func_calc(v0,t):\n",
    "    return v0*t + 0.5*9.8*(t**2)"
   ]
  },
  {
   "cell_type": "code",
   "execution_count": 47,
   "id": "0b35231d-39b4-4438-b258-cf0a01dd76c7",
   "metadata": {},
   "outputs": [],
   "source": [
    "ans = [func_calc(v0,t) for t in values]"
   ]
  },
  {
   "cell_type": "code",
   "execution_count": 51,
   "id": "95d573cd-acf9-431c-8997-7958a62e4b1a",
   "metadata": {},
   "outputs": [
    {
     "data": {
      "text/plain": [
       "28"
      ]
     },
     "execution_count": 51,
     "metadata": {},
     "output_type": "execute_result"
    },
    {
     "data": {
      "text/plain": [
       "23"
      ]
     },
     "execution_count": 51,
     "metadata": {},
     "output_type": "execute_result"
    },
    {
     "data": {
      "text/plain": [
       "31"
      ]
     },
     "execution_count": 51,
     "metadata": {},
     "output_type": "execute_result"
    },
    {
     "data": {
      "text/plain": [
       "25"
      ]
     },
     "execution_count": 51,
     "metadata": {},
     "output_type": "execute_result"
    },
    {
     "data": {
      "text/plain": [
       "34"
      ]
     },
     "execution_count": 51,
     "metadata": {},
     "output_type": "execute_result"
    },
    {
     "data": {
      "text/plain": [
       "31"
      ]
     },
     "execution_count": 51,
     "metadata": {},
     "output_type": "execute_result"
    },
    {
     "data": {
      "text/plain": [
       "31"
      ]
     },
     "execution_count": 51,
     "metadata": {},
     "output_type": "execute_result"
    },
    {
     "data": {
      "text/plain": [
       "17"
      ]
     },
     "execution_count": 51,
     "metadata": {},
     "output_type": "execute_result"
    },
    {
     "data": {
      "text/plain": [
       "14"
      ]
     },
     "execution_count": 51,
     "metadata": {},
     "output_type": "execute_result"
    },
    {
     "data": {
      "text/plain": [
       "30"
      ]
     },
     "execution_count": 51,
     "metadata": {},
     "output_type": "execute_result"
    },
    {
     "data": {
      "text/plain": [
       "26"
      ]
     },
     "execution_count": 51,
     "metadata": {},
     "output_type": "execute_result"
    },
    {
     "data": {
      "text/plain": [
       "29"
      ]
     },
     "execution_count": 51,
     "metadata": {},
     "output_type": "execute_result"
    },
    {
     "data": {
      "text/plain": [
       "28"
      ]
     },
     "execution_count": 51,
     "metadata": {},
     "output_type": "execute_result"
    },
    {
     "data": {
      "text/plain": [
       "23"
      ]
     },
     "execution_count": 51,
     "metadata": {},
     "output_type": "execute_result"
    },
    {
     "data": {
      "text/plain": [
       "29"
      ]
     },
     "execution_count": 51,
     "metadata": {},
     "output_type": "execute_result"
    },
    {
     "data": {
      "text/plain": [
       "31"
      ]
     },
     "execution_count": 51,
     "metadata": {},
     "output_type": "execute_result"
    },
    {
     "data": {
      "text/plain": [
       "31"
      ]
     },
     "execution_count": 51,
     "metadata": {},
     "output_type": "execute_result"
    },
    {
     "data": {
      "text/plain": [
       "29"
      ]
     },
     "execution_count": 51,
     "metadata": {},
     "output_type": "execute_result"
    },
    {
     "data": {
      "text/plain": [
       "31"
      ]
     },
     "execution_count": 51,
     "metadata": {},
     "output_type": "execute_result"
    },
    {
     "data": {
      "text/plain": [
       "31"
      ]
     },
     "execution_count": 51,
     "metadata": {},
     "output_type": "execute_result"
    },
    {
     "data": {
      "text/plain": [
       "31"
      ]
     },
     "execution_count": 51,
     "metadata": {},
     "output_type": "execute_result"
    },
    {
     "data": {
      "text/plain": [
       "31"
      ]
     },
     "execution_count": 51,
     "metadata": {},
     "output_type": "execute_result"
    }
   ],
   "source": [
    "f_out = open(\"../t vs ans.txt\",'w+')\n",
    "for t,v in zip(values,ans):\n",
    "    f_out.write(f\"{t},{v} \\n\")\n",
    "f_out.close()"
   ]
  },
  {
   "cell_type": "code",
   "execution_count": null,
   "id": "8c1eff64-4633-45ed-83cb-e23a97e938fb",
   "metadata": {},
   "outputs": [],
   "source": []
  }
 ],
 "metadata": {
  "kernelspec": {
   "display_name": "20bec027",
   "language": "python",
   "name": "20bec027"
  },
  "language_info": {
   "codemirror_mode": {
    "name": "ipython",
    "version": 3
   },
   "file_extension": ".py",
   "mimetype": "text/x-python",
   "name": "python",
   "nbconvert_exporter": "python",
   "pygments_lexer": "ipython3",
   "version": "3.8.10"
  }
 },
 "nbformat": 4,
 "nbformat_minor": 5
}
