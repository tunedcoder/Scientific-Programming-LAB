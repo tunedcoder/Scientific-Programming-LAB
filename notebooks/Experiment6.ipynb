{
 "cells": [
  {
   "cell_type": "code",
   "execution_count": 1,
   "id": "2f0bcfa3-115e-4f31-b8d2-57639b10e9c9",
   "metadata": {},
   "outputs": [],
   "source": [
    "class Bank(dict):\n",
    "    def __init__(self,name,num,at):\n",
    "        self.name = name\n",
    "        self.acc_num = num\n",
    "        self.acc_type = at\n",
    "        self.balance =0\n",
    "        self.intrest=0\n",
    "        \n",
    "    def deposit(self,amt):\n",
    "        self.balance += amt\n",
    "        \n",
    "    def withdraw(self,amt):\n",
    "        self.balance -= amt\n",
    "        \n",
    "    def findInterest(self):\n",
    "        if self.balance >= 500000:\n",
    "            self.intrest = self.balance * 0.08\n",
    "        elif self.balance >= 300000:\n",
    "            self.intrest = self.balance * 0.07\n",
    "        elif self.balance >= 100000:\n",
    "            self.intrest = self.balance * 0.05\n",
    "        else:\n",
    "            self.intrest = self.balance * 0.03\n",
    "        \n",
    "        return self.intrest"
   ]
  },
  {
   "cell_type": "code",
   "execution_count": 2,
   "id": "8e1aa3f6-08d5-4792-9d3b-86f2ee87e966",
   "metadata": {},
   "outputs": [],
   "source": [
    "p1 = Bank(\"Karan\", 69,\"Savings\")"
   ]
  },
  {
   "cell_type": "code",
   "execution_count": 3,
   "id": "153b2a00-8f93-4bbe-807e-1bd71037b383",
   "metadata": {},
   "outputs": [],
   "source": [
    "p1.deposit(700000)"
   ]
  },
  {
   "cell_type": "code",
   "execution_count": 4,
   "id": "57275207-ecc0-4e6d-b0ac-6a798599c8d4",
   "metadata": {},
   "outputs": [
    {
     "data": {
      "text/plain": [
       "700000"
      ]
     },
     "execution_count": 4,
     "metadata": {},
     "output_type": "execute_result"
    }
   ],
   "source": [
    "p1.balance"
   ]
  },
  {
   "cell_type": "code",
   "execution_count": 5,
   "id": "55eccdff-305e-4788-bb61-6c136aae6c8a",
   "metadata": {},
   "outputs": [],
   "source": [
    "p1.deposit(200)"
   ]
  },
  {
   "cell_type": "code",
   "execution_count": 6,
   "id": "3df2e3c7-4f33-4ad3-a952-a1702102eb1a",
   "metadata": {},
   "outputs": [
    {
     "data": {
      "text/plain": [
       "700200"
      ]
     },
     "execution_count": 6,
     "metadata": {},
     "output_type": "execute_result"
    }
   ],
   "source": [
    "p1.balance"
   ]
  },
  {
   "cell_type": "code",
   "execution_count": 7,
   "id": "9d252886-7af3-4080-9740-20ee31d75e2c",
   "metadata": {},
   "outputs": [],
   "source": [
    "p1.withdraw(p1.findInterest())"
   ]
  },
  {
   "cell_type": "code",
   "execution_count": 8,
   "id": "eb093e6f-0efa-4b4c-94c9-18159364c50f",
   "metadata": {},
   "outputs": [
    {
     "data": {
      "text/plain": [
       "644184.0"
      ]
     },
     "execution_count": 8,
     "metadata": {},
     "output_type": "execute_result"
    }
   ],
   "source": [
    "p1.balance"
   ]
  },
  {
   "cell_type": "code",
   "execution_count": 9,
   "id": "79873cad-71b5-4e7c-a7e0-9745c7c883fd",
   "metadata": {},
   "outputs": [
    {
     "data": {
      "text/plain": [
       "51534.72"
      ]
     },
     "execution_count": 9,
     "metadata": {},
     "output_type": "execute_result"
    }
   ],
   "source": [
    "p1.findInterest()"
   ]
  },
  {
   "cell_type": "code",
   "execution_count": 15,
   "id": "9969498a-1ba7-40a9-bc36-c165db6e1a7b",
   "metadata": {},
   "outputs": [],
   "source": [
    "class Person():\n",
    "    def __init__(self, name, bdate,city):\n",
    "        self.name = name\n",
    "        self.bdate = bdate\n",
    "        self.city = city\n",
    "\n",
    "class Student(Person):\n",
    "    def __init__(self,name,bdate,city,roll_num,branch,total_marks,year):\n",
    "        super().__init__(name,bdate,city)\n",
    "        self.roll = roll_num\n",
    "        self.branch = branch\n",
    "        self.total_marks = total_marks\n",
    "        self.year = year\n",
    "    \n",
    "    def percentage(self):\n",
    "        pass\n",
    "    \n",
    "    \n",
    "class Grad(Student):\n",
    "    def __init__(self,name,bdate,city,roll_num,branch,total_marks,year):\n",
    "        super().__init__(name,bdate,city,roll_num,branch,total_marks,year)\n",
    "        self.marks = int(input(\"Enter Obtained Marks\"))\n",
    "    \n",
    "    def percentage(self):\n",
    "        self.percent = self.marks/600\n",
    "        return self.percent\n",
    "    \n",
    "class PostGrad(Student):\n",
    "    def __init__(self,name,bdate,city,roll_num,branch,total_marks,year):\n",
    "        super().__init__(name,bdate,city,roll_num,branch,total_marks,year)\n",
    "        self.total_marks = int(input(\"Enter Obtained Marks\"))\n",
    "    \n",
    "    def percentage(self):\n",
    "        self.percent = self.total_marks/400\n",
    "        return self.percent"
   ]
  },
  {
   "cell_type": "code",
   "execution_count": null,
   "id": "a9d5186b-0567-48c8-852b-c07ec172102c",
   "metadata": {},
   "outputs": [],
   "source": [
    "s1 =PostGrad(\"Karan\",\"22/03/2001\",\"20BCE051\",\"Ahmedabad\",\"CSE\",0,2024)"
   ]
  },
  {
   "cell_type": "code",
   "execution_count": 14,
   "id": "0a64085c-2201-4bcd-abca-4d5d42d160a6",
   "metadata": {},
   "outputs": [
    {
     "ename": "NameError",
     "evalue": "name 'sel' is not defined",
     "output_type": "error",
     "traceback": [
      "\u001b[0;31m---------------------------------------------------------------------------\u001b[0m",
      "\u001b[0;31mNameError\u001b[0m                                 Traceback (most recent call last)",
      "Input \u001b[0;32mIn [14]\u001b[0m, in \u001b[0;36m<cell line: 1>\u001b[0;34m()\u001b[0m\n\u001b[0;32m----> 1\u001b[0m \u001b[43ms1\u001b[49m\u001b[38;5;241;43m.\u001b[39;49m\u001b[43mpercentage\u001b[49m\u001b[43m(\u001b[49m\u001b[43m)\u001b[49m\n",
      "Input \u001b[0;32mIn [10]\u001b[0m, in \u001b[0;36mPostGrad.percentage\u001b[0;34m(self)\u001b[0m\n\u001b[1;32m     33\u001b[0m \u001b[38;5;28;01mdef\u001b[39;00m \u001b[38;5;21mpercentage\u001b[39m(\u001b[38;5;28mself\u001b[39m):\n\u001b[1;32m     34\u001b[0m     \u001b[38;5;28mself\u001b[39m\u001b[38;5;241m.\u001b[39mpercent \u001b[38;5;241m=\u001b[39m \u001b[38;5;28mself\u001b[39m\u001b[38;5;241m.\u001b[39mtotal_marks\u001b[38;5;241m/\u001b[39m\u001b[38;5;241m400\u001b[39m\n\u001b[0;32m---> 35\u001b[0m     \u001b[38;5;28;01mreturn\u001b[39;00m \u001b[43msel\u001b[49m\u001b[38;5;241m.\u001b[39mpercent\n",
      "\u001b[0;31mNameError\u001b[0m: name 'sel' is not defined"
     ]
    }
   ],
   "source": [
    "s1.percentage()"
   ]
  },
  {
   "cell_type": "code",
   "execution_count": null,
   "id": "efa19277-5fdb-4f69-b369-58668bbc295b",
   "metadata": {},
   "outputs": [],
   "source": []
  }
 ],
 "metadata": {
  "kernelspec": {
   "display_name": "20bec027",
   "language": "python",
   "name": "20bec027"
  },
  "language_info": {
   "codemirror_mode": {
    "name": "ipython",
    "version": 3
   },
   "file_extension": ".py",
   "mimetype": "text/x-python",
   "name": "python",
   "nbconvert_exporter": "python",
   "pygments_lexer": "ipython3",
   "version": "3.8.10"
  }
 },
 "nbformat": 4,
 "nbformat_minor": 5
}
