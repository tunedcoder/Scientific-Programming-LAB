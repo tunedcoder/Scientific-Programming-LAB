{
 "cells": [
  {
   "cell_type": "markdown",
   "metadata": {},
   "source": [
    "### Importing Libraries"
   ]
  },
  {
   "cell_type": "code",
   "execution_count": 1,
   "metadata": {},
   "outputs": [],
   "source": [
    "import numpy as np\n",
    "import pandas as pd\n",
    "import matplotlib.pyplot as plt\n",
    "\n",
    "from sklearn.tree import DecisionTreeClassifier\n",
    "from sklearn.ensemble import AdaBoostClassifier,BaggingClassifier,BaseEnsemble,ExtraTreesClassifier,GradientBoostingClassifier,RandomForestClassifier,StackingClassifier,VotingClassifier\n",
    "from sklearn.neural_network import MLPClassifier\n",
    "from sklearn.linear_model import LogisticRegression,LogisticRegressionCV\n",
    "from sklearn.neighbors import KNeighborsClassifier\n",
    "from sklearn.svm import SVC\n",
    "from sklearn.gaussian_process import GaussianProcessClassifier\n",
    "from sklearn.naive_bayes import GaussianNB\n",
    "from xgboost import XGBClassifier, XGBRFClassifier\n",
    "\n",
    "from sklearn.metrics import accuracy_score, f1_score, precision_score, recall_score\n",
    "from sklearn.model_selection import GridSearchCV, cross_val_score, train_test_split\n",
    "\n",
    "import seaborn as sns\n",
    "import missingno as msno\n",
    "\n",
    "import itertools\n",
    "from tqdm.notebook import tqdm_notebook\n",
    "import time\n",
    "\n",
    "%matplotlib inline\n",
    "from IPython.core.interactiveshell import InteractiveShell\n",
    "InteractiveShell.ast_node_interactivity = \"all\""
   ]
  },
  {
   "cell_type": "markdown",
   "metadata": {},
   "source": [
    "### Reading Categorical Data"
   ]
  },
  {
   "cell_type": "code",
   "execution_count": 2,
   "metadata": {},
   "outputs": [],
   "source": [
    "enc_df = pd.read_csv(\"../Data/Catdf.csv\")"
   ]
  },
  {
   "cell_type": "code",
   "execution_count": 3,
   "metadata": {},
   "outputs": [],
   "source": [
    "models = {\n",
    "    \"XGB GPU\": XGBClassifier(tree_method=\"gpu_hist\", n_jobs =-1),\n",
    "    \"XGBRF GPU\": XGBRFClassifier(tree_method=\"gpu_hist\", n_jobs =-1),\n",
    "    \"XGB\": XGBClassifier(n_jobs =-1),\n",
    "    \"XGBRF\": XGBRFClassifier(n_jobs =-1),\n",
    "    \"Desicion Tree\" : DecisionTreeClassifier(),\n",
    "    \"AdaBoost\": AdaBoostClassifier(),\n",
    "    \"Bagging Classifier\": BaggingClassifier(),\n",
    "    \"Extra Trees Classifier\": ExtraTreesClassifier(),\n",
    "    \"Random Forest\": RandomForestClassifier(),\n",
    "    \"KNeighbours\": KNeighborsClassifier(),\n",
    "    \"SVC\": SVC(),\n",
    "    \"Naive Bayes\": GaussianNB(),\n",
    "    \"MLP\": MLPClassifier()\n",
    "}\n",
    "\n",
    "performance = pd.DataFrame(index = models.keys(), columns =[\"Accuracy\",\"Precision\",\"Recall\", \"F1 Score\"])\n"
   ]
  },
  {
   "cell_type": "code",
   "execution_count": 4,
   "metadata": {},
   "outputs": [],
   "source": [
    "performance[\"Model Name\"] = models.keys()\n",
    "performance[\"Model\"] = models.items()"
   ]
  },
  {
   "cell_type": "markdown",
   "metadata": {},
   "source": [
    "### Initiailing DataFrame For Performance Results"
   ]
  },
  {
   "cell_type": "code",
   "execution_count": 5,
   "metadata": {},
   "outputs": [
    {
     "data": {
      "text/html": [
       "<div>\n",
       "<style scoped>\n",
       "    .dataframe tbody tr th:only-of-type {\n",
       "        vertical-align: middle;\n",
       "    }\n",
       "\n",
       "    .dataframe tbody tr th {\n",
       "        vertical-align: top;\n",
       "    }\n",
       "\n",
       "    .dataframe thead th {\n",
       "        text-align: right;\n",
       "    }\n",
       "</style>\n",
       "<table border=\"1\" class=\"dataframe\">\n",
       "  <thead>\n",
       "    <tr style=\"text-align: right;\">\n",
       "      <th></th>\n",
       "      <th>Accuracy</th>\n",
       "      <th>Precision</th>\n",
       "      <th>Recall</th>\n",
       "      <th>F1 Score</th>\n",
       "      <th>Model Name</th>\n",
       "      <th>Model</th>\n",
       "    </tr>\n",
       "  </thead>\n",
       "  <tbody>\n",
       "    <tr>\n",
       "      <th>XGB GPU</th>\n",
       "      <td>NaN</td>\n",
       "      <td>NaN</td>\n",
       "      <td>NaN</td>\n",
       "      <td>NaN</td>\n",
       "      <td>XGB GPU</td>\n",
       "      <td>(XGB GPU, XGBClassifier(base_score=None, boost...</td>\n",
       "    </tr>\n",
       "    <tr>\n",
       "      <th>XGBRF GPU</th>\n",
       "      <td>NaN</td>\n",
       "      <td>NaN</td>\n",
       "      <td>NaN</td>\n",
       "      <td>NaN</td>\n",
       "      <td>XGBRF GPU</td>\n",
       "      <td>(XGBRF GPU, XGBRFClassifier(base_score=None, b...</td>\n",
       "    </tr>\n",
       "    <tr>\n",
       "      <th>XGB</th>\n",
       "      <td>NaN</td>\n",
       "      <td>NaN</td>\n",
       "      <td>NaN</td>\n",
       "      <td>NaN</td>\n",
       "      <td>XGB</td>\n",
       "      <td>(XGB, XGBClassifier(base_score=None, booster=N...</td>\n",
       "    </tr>\n",
       "    <tr>\n",
       "      <th>XGBRF</th>\n",
       "      <td>NaN</td>\n",
       "      <td>NaN</td>\n",
       "      <td>NaN</td>\n",
       "      <td>NaN</td>\n",
       "      <td>XGBRF</td>\n",
       "      <td>(XGBRF, XGBRFClassifier(base_score=None, boost...</td>\n",
       "    </tr>\n",
       "    <tr>\n",
       "      <th>Desicion Tree</th>\n",
       "      <td>NaN</td>\n",
       "      <td>NaN</td>\n",
       "      <td>NaN</td>\n",
       "      <td>NaN</td>\n",
       "      <td>Desicion Tree</td>\n",
       "      <td>(Desicion Tree, DecisionTreeClassifier())</td>\n",
       "    </tr>\n",
       "    <tr>\n",
       "      <th>AdaBoost</th>\n",
       "      <td>NaN</td>\n",
       "      <td>NaN</td>\n",
       "      <td>NaN</td>\n",
       "      <td>NaN</td>\n",
       "      <td>AdaBoost</td>\n",
       "      <td>(AdaBoost, AdaBoostClassifier())</td>\n",
       "    </tr>\n",
       "    <tr>\n",
       "      <th>Bagging Classifier</th>\n",
       "      <td>NaN</td>\n",
       "      <td>NaN</td>\n",
       "      <td>NaN</td>\n",
       "      <td>NaN</td>\n",
       "      <td>Bagging Classifier</td>\n",
       "      <td>(Bagging Classifier, BaggingClassifier())</td>\n",
       "    </tr>\n",
       "    <tr>\n",
       "      <th>Extra Trees Classifier</th>\n",
       "      <td>NaN</td>\n",
       "      <td>NaN</td>\n",
       "      <td>NaN</td>\n",
       "      <td>NaN</td>\n",
       "      <td>Extra Trees Classifier</td>\n",
       "      <td>(Extra Trees Classifier, ExtraTreesClassifier())</td>\n",
       "    </tr>\n",
       "    <tr>\n",
       "      <th>Random Forest</th>\n",
       "      <td>NaN</td>\n",
       "      <td>NaN</td>\n",
       "      <td>NaN</td>\n",
       "      <td>NaN</td>\n",
       "      <td>Random Forest</td>\n",
       "      <td>(Random Forest, RandomForestClassifier())</td>\n",
       "    </tr>\n",
       "    <tr>\n",
       "      <th>KNeighbours</th>\n",
       "      <td>NaN</td>\n",
       "      <td>NaN</td>\n",
       "      <td>NaN</td>\n",
       "      <td>NaN</td>\n",
       "      <td>KNeighbours</td>\n",
       "      <td>(KNeighbours, KNeighborsClassifier())</td>\n",
       "    </tr>\n",
       "    <tr>\n",
       "      <th>SVC</th>\n",
       "      <td>NaN</td>\n",
       "      <td>NaN</td>\n",
       "      <td>NaN</td>\n",
       "      <td>NaN</td>\n",
       "      <td>SVC</td>\n",
       "      <td>(SVC, SVC())</td>\n",
       "    </tr>\n",
       "    <tr>\n",
       "      <th>Naive Bayes</th>\n",
       "      <td>NaN</td>\n",
       "      <td>NaN</td>\n",
       "      <td>NaN</td>\n",
       "      <td>NaN</td>\n",
       "      <td>Naive Bayes</td>\n",
       "      <td>(Naive Bayes, GaussianNB())</td>\n",
       "    </tr>\n",
       "    <tr>\n",
       "      <th>MLP</th>\n",
       "      <td>NaN</td>\n",
       "      <td>NaN</td>\n",
       "      <td>NaN</td>\n",
       "      <td>NaN</td>\n",
       "      <td>MLP</td>\n",
       "      <td>(MLP, MLPClassifier())</td>\n",
       "    </tr>\n",
       "  </tbody>\n",
       "</table>\n",
       "</div>"
      ],
      "text/plain": [
       "                       Accuracy Precision Recall F1 Score  \\\n",
       "XGB GPU                     NaN       NaN    NaN      NaN   \n",
       "XGBRF GPU                   NaN       NaN    NaN      NaN   \n",
       "XGB                         NaN       NaN    NaN      NaN   \n",
       "XGBRF                       NaN       NaN    NaN      NaN   \n",
       "Desicion Tree               NaN       NaN    NaN      NaN   \n",
       "AdaBoost                    NaN       NaN    NaN      NaN   \n",
       "Bagging Classifier          NaN       NaN    NaN      NaN   \n",
       "Extra Trees Classifier      NaN       NaN    NaN      NaN   \n",
       "Random Forest               NaN       NaN    NaN      NaN   \n",
       "KNeighbours                 NaN       NaN    NaN      NaN   \n",
       "SVC                         NaN       NaN    NaN      NaN   \n",
       "Naive Bayes                 NaN       NaN    NaN      NaN   \n",
       "MLP                         NaN       NaN    NaN      NaN   \n",
       "\n",
       "                                    Model Name  \\\n",
       "XGB GPU                                XGB GPU   \n",
       "XGBRF GPU                            XGBRF GPU   \n",
       "XGB                                        XGB   \n",
       "XGBRF                                    XGBRF   \n",
       "Desicion Tree                    Desicion Tree   \n",
       "AdaBoost                              AdaBoost   \n",
       "Bagging Classifier          Bagging Classifier   \n",
       "Extra Trees Classifier  Extra Trees Classifier   \n",
       "Random Forest                    Random Forest   \n",
       "KNeighbours                        KNeighbours   \n",
       "SVC                                        SVC   \n",
       "Naive Bayes                        Naive Bayes   \n",
       "MLP                                        MLP   \n",
       "\n",
       "                                                                    Model  \n",
       "XGB GPU                 (XGB GPU, XGBClassifier(base_score=None, boost...  \n",
       "XGBRF GPU               (XGBRF GPU, XGBRFClassifier(base_score=None, b...  \n",
       "XGB                     (XGB, XGBClassifier(base_score=None, booster=N...  \n",
       "XGBRF                   (XGBRF, XGBRFClassifier(base_score=None, boost...  \n",
       "Desicion Tree                   (Desicion Tree, DecisionTreeClassifier())  \n",
       "AdaBoost                                 (AdaBoost, AdaBoostClassifier())  \n",
       "Bagging Classifier              (Bagging Classifier, BaggingClassifier())  \n",
       "Extra Trees Classifier   (Extra Trees Classifier, ExtraTreesClassifier())  \n",
       "Random Forest                   (Random Forest, RandomForestClassifier())  \n",
       "KNeighbours                         (KNeighbours, KNeighborsClassifier())  \n",
       "SVC                                                          (SVC, SVC())  \n",
       "Naive Bayes                                   (Naive Bayes, GaussianNB())  \n",
       "MLP                                                (MLP, MLPClassifier())  "
      ]
     },
     "execution_count": 5,
     "metadata": {},
     "output_type": "execute_result"
    }
   ],
   "source": [
    "performance"
   ]
  },
  {
   "cell_type": "code",
   "execution_count": 16,
   "metadata": {},
   "outputs": [
    {
     "data": {
      "text/plain": [
       "Index(['XGB GPU', 'XGBRF GPU', 'XGB', 'XGBRF', 'Desicion Tree', 'AdaBoost',\n",
       "       'Bagging Classifier', 'Extra Trees Classifier', 'Random Forest',\n",
       "       'KNeighbours', 'SVC', 'Naive Bayes', 'MLP'],\n",
       "      dtype='object')"
      ]
     },
     "execution_count": 16,
     "metadata": {},
     "output_type": "execute_result"
    }
   ],
   "source": [
    "performance.index"
   ]
  },
  {
   "cell_type": "code",
   "execution_count": 6,
   "metadata": {},
   "outputs": [],
   "source": [
    "import joblib"
   ]
  },
  {
   "cell_type": "code",
   "execution_count": 7,
   "metadata": {},
   "outputs": [
    {
     "data": {
      "application/vnd.jupyter.widget-view+json": {
       "model_id": "ec06a5ed85294819934ce2f8263b13df",
       "version_major": 2,
       "version_minor": 0
      },
      "text/plain": [
       "  0%|          | 0/13 [00:00<?, ?it/s]"
      ]
     },
     "metadata": {},
     "output_type": "display_data"
    },
    {
     "name": "stdout",
     "output_type": "stream",
     "text": [
      "XGB GPU\n",
      "667 ms ± 0 ns per loop (mean ± std. dev. of 1 run, 1 loop each)\n"
     ]
    },
    {
     "data": {
      "text/plain": [
       "['../Models/XGB GPU.joblib']"
      ]
     },
     "execution_count": 7,
     "metadata": {},
     "output_type": "execute_result"
    },
    {
     "data": {
      "text/plain": [
       "1.0"
      ]
     },
     "metadata": {},
     "output_type": "display_data"
    },
    {
     "data": {
      "text/plain": [
       "1.0"
      ]
     },
     "metadata": {},
     "output_type": "display_data"
    },
    {
     "name": "stdout",
     "output_type": "stream",
     "text": [
      "XGBRF GPU\n",
      "2.07 s ± 0 ns per loop (mean ± std. dev. of 1 run, 1 loop each)\n"
     ]
    },
    {
     "data": {
      "text/plain": [
       "['../Models/XGBRF GPU.joblib']"
      ]
     },
     "execution_count": 7,
     "metadata": {},
     "output_type": "execute_result"
    },
    {
     "data": {
      "text/plain": [
       "0.9993612264452252"
      ]
     },
     "metadata": {},
     "output_type": "display_data"
    },
    {
     "data": {
      "text/plain": [
       "0.9993561291029647"
      ]
     },
     "metadata": {},
     "output_type": "display_data"
    },
    {
     "name": "stdout",
     "output_type": "stream",
     "text": [
      "XGB\n",
      "1.14 s ± 0 ns per loop (mean ± std. dev. of 1 run, 1 loop each)\n"
     ]
    },
    {
     "data": {
      "text/plain": [
       "['../Models/XGB.joblib']"
      ]
     },
     "execution_count": 7,
     "metadata": {},
     "output_type": "execute_result"
    },
    {
     "data": {
      "text/plain": [
       "0.9996806132226126"
      ]
     },
     "metadata": {},
     "output_type": "display_data"
    },
    {
     "data": {
      "text/plain": [
       "0.999678597866095"
      ]
     },
     "metadata": {},
     "output_type": "display_data"
    },
    {
     "name": "stdout",
     "output_type": "stream",
     "text": [
      "XGBRF\n",
      "4.1 s ± 0 ns per loop (mean ± std. dev. of 1 run, 1 loop each)\n"
     ]
    },
    {
     "data": {
      "text/plain": [
       "['../Models/XGBRF.joblib']"
      ]
     },
     "execution_count": 7,
     "metadata": {},
     "output_type": "execute_result"
    },
    {
     "data": {
      "text/plain": [
       "0.9993612264452252"
      ]
     },
     "metadata": {},
     "output_type": "display_data"
    },
    {
     "data": {
      "text/plain": [
       "0.9993561291029647"
      ]
     },
     "metadata": {},
     "output_type": "display_data"
    },
    {
     "name": "stdout",
     "output_type": "stream",
     "text": [
      "Desicion Tree\n",
      "46.3 ms ± 0 ns per loop (mean ± std. dev. of 1 run, 10 loops each)\n"
     ]
    },
    {
     "data": {
      "text/plain": [
       "['../Models/Desicion Tree.joblib']"
      ]
     },
     "execution_count": 7,
     "metadata": {},
     "output_type": "execute_result"
    },
    {
     "data": {
      "text/plain": [
       "1.0"
      ]
     },
     "metadata": {},
     "output_type": "display_data"
    },
    {
     "data": {
      "text/plain": [
       "1.0"
      ]
     },
     "metadata": {},
     "output_type": "display_data"
    },
    {
     "name": "stdout",
     "output_type": "stream",
     "text": [
      "AdaBoost\n",
      "653 ms ± 0 ns per loop (mean ± std. dev. of 1 run, 1 loop each)\n"
     ]
    },
    {
     "data": {
      "text/plain": [
       "['../Models/AdaBoost.joblib']"
      ]
     },
     "execution_count": 7,
     "metadata": {},
     "output_type": "execute_result"
    },
    {
     "name": "stderr",
     "output_type": "stream",
     "text": [
      "/opt/conda/lib/python3.9/site-packages/sklearn/metrics/_classification.py:1318: UndefinedMetricWarning: Recall is ill-defined and being set to 0.0 in labels with no true samples. Use `zero_division` parameter to control this behavior.\n",
      "  _warn_prf(average, modifier, msg_start, len(result))\n"
     ]
    },
    {
     "data": {
      "text/plain": [
       "0.4321303098051741"
      ]
     },
     "metadata": {},
     "output_type": "display_data"
    },
    {
     "data": {
      "text/plain": [
       "0.28019807815486286"
      ]
     },
     "metadata": {},
     "output_type": "display_data"
    },
    {
     "name": "stdout",
     "output_type": "stream",
     "text": [
      "Bagging Classifier\n",
      "302 ms ± 0 ns per loop (mean ± std. dev. of 1 run, 1 loop each)\n"
     ]
    },
    {
     "data": {
      "text/plain": [
       "['../Models/Bagging Classifier.joblib']"
      ]
     },
     "execution_count": 7,
     "metadata": {},
     "output_type": "execute_result"
    },
    {
     "data": {
      "text/plain": [
       "1.0"
      ]
     },
     "metadata": {},
     "output_type": "display_data"
    },
    {
     "data": {
      "text/plain": [
       "1.0"
      ]
     },
     "metadata": {},
     "output_type": "display_data"
    },
    {
     "name": "stdout",
     "output_type": "stream",
     "text": [
      "Extra Trees Classifier\n",
      "776 ms ± 0 ns per loop (mean ± std. dev. of 1 run, 1 loop each)\n"
     ]
    },
    {
     "data": {
      "text/plain": [
       "['../Models/Extra Trees Classifier.joblib']"
      ]
     },
     "execution_count": 7,
     "metadata": {},
     "output_type": "execute_result"
    },
    {
     "data": {
      "text/plain": [
       "1.0"
      ]
     },
     "metadata": {},
     "output_type": "display_data"
    },
    {
     "data": {
      "text/plain": [
       "1.0"
      ]
     },
     "metadata": {},
     "output_type": "display_data"
    },
    {
     "name": "stdout",
     "output_type": "stream",
     "text": [
      "Random Forest\n",
      "1.35 s ± 0 ns per loop (mean ± std. dev. of 1 run, 1 loop each)\n"
     ]
    },
    {
     "data": {
      "text/plain": [
       "['../Models/Random Forest.joblib']"
      ]
     },
     "execution_count": 7,
     "metadata": {},
     "output_type": "execute_result"
    },
    {
     "data": {
      "text/plain": [
       "1.0"
      ]
     },
     "metadata": {},
     "output_type": "display_data"
    },
    {
     "data": {
      "text/plain": [
       "1.0"
      ]
     },
     "metadata": {},
     "output_type": "display_data"
    },
    {
     "name": "stdout",
     "output_type": "stream",
     "text": [
      "KNeighbours\n",
      "1.77 ms ± 0 ns per loop (mean ± std. dev. of 1 run, 1,000 loops each)\n"
     ]
    },
    {
     "data": {
      "text/plain": [
       "['../Models/KNeighbours.joblib']"
      ]
     },
     "execution_count": 7,
     "metadata": {},
     "output_type": "execute_result"
    },
    {
     "data": {
      "text/plain": [
       "0.4682210156499521"
      ]
     },
     "metadata": {},
     "output_type": "display_data"
    },
    {
     "data": {
      "text/plain": [
       "0.45854192391089454"
      ]
     },
     "metadata": {},
     "output_type": "display_data"
    },
    {
     "name": "stdout",
     "output_type": "stream",
     "text": [
      "SVC\n",
      "5.93 s ± 0 ns per loop (mean ± std. dev. of 1 run, 1 loop each)\n"
     ]
    },
    {
     "data": {
      "text/plain": [
       "['../Models/SVC.joblib']"
      ]
     },
     "execution_count": 7,
     "metadata": {},
     "output_type": "execute_result"
    },
    {
     "name": "stderr",
     "output_type": "stream",
     "text": [
      "/opt/conda/lib/python3.9/site-packages/sklearn/metrics/_classification.py:1318: UndefinedMetricWarning: Recall is ill-defined and being set to 0.0 in labels with no true samples. Use `zero_division` parameter to control this behavior.\n",
      "  _warn_prf(average, modifier, msg_start, len(result))\n"
     ]
    },
    {
     "data": {
      "text/plain": [
       "0.10507824976045992"
      ]
     },
     "metadata": {},
     "output_type": "display_data"
    },
    {
     "data": {
      "text/plain": [
       "0.03589553837669996"
      ]
     },
     "metadata": {},
     "output_type": "display_data"
    },
    {
     "name": "stdout",
     "output_type": "stream",
     "text": [
      "Naive Bayes\n",
      "4.67 ms ± 0 ns per loop (mean ± std. dev. of 1 run, 100 loops each)\n"
     ]
    },
    {
     "data": {
      "text/plain": [
       "['../Models/Naive Bayes.joblib']"
      ]
     },
     "execution_count": 7,
     "metadata": {},
     "output_type": "execute_result"
    },
    {
     "data": {
      "text/plain": [
       "0.9993612264452252"
      ]
     },
     "metadata": {},
     "output_type": "display_data"
    },
    {
     "data": {
      "text/plain": [
       "0.999201855515383"
      ]
     },
     "metadata": {},
     "output_type": "display_data"
    },
    {
     "name": "stdout",
     "output_type": "stream",
     "text": [
      "MLP\n",
      "2.73 s ± 0 ns per loop (mean ± std. dev. of 1 run, 1 loop each)\n"
     ]
    },
    {
     "data": {
      "text/plain": [
       "['../Models/MLP.joblib']"
      ]
     },
     "execution_count": 7,
     "metadata": {},
     "output_type": "execute_result"
    },
    {
     "name": "stderr",
     "output_type": "stream",
     "text": [
      "/opt/conda/lib/python3.9/site-packages/sklearn/metrics/_classification.py:1318: UndefinedMetricWarning: Recall is ill-defined and being set to 0.0 in labels with no true samples. Use `zero_division` parameter to control this behavior.\n",
      "  _warn_prf(average, modifier, msg_start, len(result))\n"
     ]
    },
    {
     "data": {
      "text/plain": [
       "0.37016927499201535"
      ]
     },
     "metadata": {},
     "output_type": "display_data"
    },
    {
     "data": {
      "text/plain": [
       "0.26755983600706773"
      ]
     },
     "metadata": {},
     "output_type": "display_data"
    }
   ],
   "source": [
    "X_train,X_test,y_train, y_test = train_test_split(enc_df.drop(columns=[\"conditions\"]),enc_df[\"conditions\"],test_size=0.25,random_state = 66)\n",
    "for key in tqdm_notebook(models.keys()):\n",
    "    print(key)         \n",
    "    model = models[key]           # Fit the classifier model             \n",
    "    %timeit -r1 model.fit(X_train, y_train)\n",
    "    joblib.dump(model,f\"../Models/{key}.joblib\")            # Prediction              \n",
    "    predictions = model.predict(X_test)            # Calculate Accuracy, Precision and Recall Metrics\n",
    "    performance[\"Accuracy\"][key] = accuracy_score(predictions, y_test)\n",
    "    performance[\"Precision\"][key] = precision_score(predictions, y_test, average='macro') \n",
    "    performance[\"Recall\"][key] = recall_score(predictions, y_test, average = 'macro')             \n",
    "    performance[\"F1 Score\"][key] = f1_score(predictions, y_test, average = 'macro') \n",
    "    \n",
    "    display(performance[\"Accuracy\"][key])\n",
    "    display(performance[\"F1 Score\"][key])\n",
    "    \n",
    "    performance.to_csv(\"../Results/performance.csv\")\n"
   ]
  },
  {
   "cell_type": "code",
   "execution_count": 8,
   "metadata": {},
   "outputs": [
    {
     "data": {
      "text/html": [
       "<div>\n",
       "<style scoped>\n",
       "    .dataframe tbody tr th:only-of-type {\n",
       "        vertical-align: middle;\n",
       "    }\n",
       "\n",
       "    .dataframe tbody tr th {\n",
       "        vertical-align: top;\n",
       "    }\n",
       "\n",
       "    .dataframe thead th {\n",
       "        text-align: right;\n",
       "    }\n",
       "</style>\n",
       "<table border=\"1\" class=\"dataframe\">\n",
       "  <thead>\n",
       "    <tr style=\"text-align: right;\">\n",
       "      <th></th>\n",
       "      <th>Accuracy</th>\n",
       "      <th>Precision</th>\n",
       "      <th>Recall</th>\n",
       "      <th>F1 Score</th>\n",
       "      <th>Model Name</th>\n",
       "      <th>Model</th>\n",
       "    </tr>\n",
       "  </thead>\n",
       "  <tbody>\n",
       "    <tr>\n",
       "      <th>XGB GPU</th>\n",
       "      <td>1.0</td>\n",
       "      <td>1.0</td>\n",
       "      <td>1.0</td>\n",
       "      <td>1.0</td>\n",
       "      <td>XGB GPU</td>\n",
       "      <td>(XGB GPU, XGBClassifier(base_score=0.5, booste...</td>\n",
       "    </tr>\n",
       "    <tr>\n",
       "      <th>XGBRF GPU</th>\n",
       "      <td>0.999361</td>\n",
       "      <td>0.99914</td>\n",
       "      <td>0.999579</td>\n",
       "      <td>0.999356</td>\n",
       "      <td>XGBRF GPU</td>\n",
       "      <td>(XGBRF GPU, XGBRFClassifier(base_score=0.5, bo...</td>\n",
       "    </tr>\n",
       "    <tr>\n",
       "      <th>XGB</th>\n",
       "      <td>0.999681</td>\n",
       "      <td>0.99957</td>\n",
       "      <td>0.999789</td>\n",
       "      <td>0.999679</td>\n",
       "      <td>XGB</td>\n",
       "      <td>(XGB, XGBClassifier(base_score=0.5, booster='g...</td>\n",
       "    </tr>\n",
       "    <tr>\n",
       "      <th>XGBRF</th>\n",
       "      <td>0.999361</td>\n",
       "      <td>0.99914</td>\n",
       "      <td>0.999579</td>\n",
       "      <td>0.999356</td>\n",
       "      <td>XGBRF</td>\n",
       "      <td>(XGBRF, XGBRFClassifier(base_score=0.5, booste...</td>\n",
       "    </tr>\n",
       "    <tr>\n",
       "      <th>Desicion Tree</th>\n",
       "      <td>1.0</td>\n",
       "      <td>1.0</td>\n",
       "      <td>1.0</td>\n",
       "      <td>1.0</td>\n",
       "      <td>Desicion Tree</td>\n",
       "      <td>(Desicion Tree, DecisionTreeClassifier())</td>\n",
       "    </tr>\n",
       "    <tr>\n",
       "      <th>AdaBoost</th>\n",
       "      <td>0.43213</td>\n",
       "      <td>0.333333</td>\n",
       "      <td>0.269732</td>\n",
       "      <td>0.280198</td>\n",
       "      <td>AdaBoost</td>\n",
       "      <td>(AdaBoost, (DecisionTreeClassifier(max_depth=1...</td>\n",
       "    </tr>\n",
       "    <tr>\n",
       "      <th>Bagging Classifier</th>\n",
       "      <td>1.0</td>\n",
       "      <td>1.0</td>\n",
       "      <td>1.0</td>\n",
       "      <td>1.0</td>\n",
       "      <td>Bagging Classifier</td>\n",
       "      <td>(Bagging Classifier, (DecisionTreeClassifier(r...</td>\n",
       "    </tr>\n",
       "    <tr>\n",
       "      <th>Extra Trees Classifier</th>\n",
       "      <td>1.0</td>\n",
       "      <td>1.0</td>\n",
       "      <td>1.0</td>\n",
       "      <td>1.0</td>\n",
       "      <td>Extra Trees Classifier</td>\n",
       "      <td>(Extra Trees Classifier, (ExtraTreeClassifier(...</td>\n",
       "    </tr>\n",
       "    <tr>\n",
       "      <th>Random Forest</th>\n",
       "      <td>1.0</td>\n",
       "      <td>1.0</td>\n",
       "      <td>1.0</td>\n",
       "      <td>1.0</td>\n",
       "      <td>Random Forest</td>\n",
       "      <td>(Random Forest, (DecisionTreeClassifier(max_fe...</td>\n",
       "    </tr>\n",
       "    <tr>\n",
       "      <th>KNeighbours</th>\n",
       "      <td>0.468221</td>\n",
       "      <td>0.468959</td>\n",
       "      <td>0.468436</td>\n",
       "      <td>0.458542</td>\n",
       "      <td>KNeighbours</td>\n",
       "      <td>(KNeighbours, KNeighborsClassifier())</td>\n",
       "    </tr>\n",
       "    <tr>\n",
       "      <th>SVC</th>\n",
       "      <td>0.105078</td>\n",
       "      <td>0.098617</td>\n",
       "      <td>0.028555</td>\n",
       "      <td>0.035896</td>\n",
       "      <td>SVC</td>\n",
       "      <td>(SVC, SVC())</td>\n",
       "    </tr>\n",
       "    <tr>\n",
       "      <th>Naive Bayes</th>\n",
       "      <td>0.999361</td>\n",
       "      <td>0.99938</td>\n",
       "      <td>0.999034</td>\n",
       "      <td>0.999202</td>\n",
       "      <td>Naive Bayes</td>\n",
       "      <td>(Naive Bayes, GaussianNB())</td>\n",
       "    </tr>\n",
       "    <tr>\n",
       "      <th>MLP</th>\n",
       "      <td>0.370169</td>\n",
       "      <td>0.342348</td>\n",
       "      <td>0.336855</td>\n",
       "      <td>0.26756</td>\n",
       "      <td>MLP</td>\n",
       "      <td>(MLP, MLPClassifier())</td>\n",
       "    </tr>\n",
       "  </tbody>\n",
       "</table>\n",
       "</div>"
      ],
      "text/plain": [
       "                        Accuracy Precision    Recall  F1 Score  \\\n",
       "XGB GPU                      1.0       1.0       1.0       1.0   \n",
       "XGBRF GPU               0.999361   0.99914  0.999579  0.999356   \n",
       "XGB                     0.999681   0.99957  0.999789  0.999679   \n",
       "XGBRF                   0.999361   0.99914  0.999579  0.999356   \n",
       "Desicion Tree                1.0       1.0       1.0       1.0   \n",
       "AdaBoost                 0.43213  0.333333  0.269732  0.280198   \n",
       "Bagging Classifier           1.0       1.0       1.0       1.0   \n",
       "Extra Trees Classifier       1.0       1.0       1.0       1.0   \n",
       "Random Forest                1.0       1.0       1.0       1.0   \n",
       "KNeighbours             0.468221  0.468959  0.468436  0.458542   \n",
       "SVC                     0.105078  0.098617  0.028555  0.035896   \n",
       "Naive Bayes             0.999361   0.99938  0.999034  0.999202   \n",
       "MLP                     0.370169  0.342348  0.336855   0.26756   \n",
       "\n",
       "                                    Model Name  \\\n",
       "XGB GPU                                XGB GPU   \n",
       "XGBRF GPU                            XGBRF GPU   \n",
       "XGB                                        XGB   \n",
       "XGBRF                                    XGBRF   \n",
       "Desicion Tree                    Desicion Tree   \n",
       "AdaBoost                              AdaBoost   \n",
       "Bagging Classifier          Bagging Classifier   \n",
       "Extra Trees Classifier  Extra Trees Classifier   \n",
       "Random Forest                    Random Forest   \n",
       "KNeighbours                        KNeighbours   \n",
       "SVC                                        SVC   \n",
       "Naive Bayes                        Naive Bayes   \n",
       "MLP                                        MLP   \n",
       "\n",
       "                                                                    Model  \n",
       "XGB GPU                 (XGB GPU, XGBClassifier(base_score=0.5, booste...  \n",
       "XGBRF GPU               (XGBRF GPU, XGBRFClassifier(base_score=0.5, bo...  \n",
       "XGB                     (XGB, XGBClassifier(base_score=0.5, booster='g...  \n",
       "XGBRF                   (XGBRF, XGBRFClassifier(base_score=0.5, booste...  \n",
       "Desicion Tree                   (Desicion Tree, DecisionTreeClassifier())  \n",
       "AdaBoost                (AdaBoost, (DecisionTreeClassifier(max_depth=1...  \n",
       "Bagging Classifier      (Bagging Classifier, (DecisionTreeClassifier(r...  \n",
       "Extra Trees Classifier  (Extra Trees Classifier, (ExtraTreeClassifier(...  \n",
       "Random Forest           (Random Forest, (DecisionTreeClassifier(max_fe...  \n",
       "KNeighbours                         (KNeighbours, KNeighborsClassifier())  \n",
       "SVC                                                          (SVC, SVC())  \n",
       "Naive Bayes                                   (Naive Bayes, GaussianNB())  \n",
       "MLP                                                (MLP, MLPClassifier())  "
      ]
     },
     "execution_count": 8,
     "metadata": {},
     "output_type": "execute_result"
    }
   ],
   "source": [
    "performance"
   ]
  },
  {
   "cell_type": "code",
   "execution_count": 9,
   "metadata": {},
   "outputs": [],
   "source": [
    "performance = performance[[\"Accuracy\",\"Precision\",\"Recall\",\"F1 Score\"]]"
   ]
  },
  {
   "cell_type": "code",
   "execution_count": 10,
   "metadata": {},
   "outputs": [
    {
     "name": "stderr",
     "output_type": "stream",
     "text": [
      "/tmp/ipykernel_16862/771264771.py:1: SettingWithCopyWarning: \n",
      "A value is trying to be set on a copy of a slice from a DataFrame.\n",
      "Try using .loc[row_indexer,col_indexer] = value instead\n",
      "\n",
      "See the caveats in the documentation: https://pandas.pydata.org/pandas-docs/stable/user_guide/indexing.html#returning-a-view-versus-a-copy\n",
      "  performance[\"Model\"] = performance.index\n"
     ]
    }
   ],
   "source": [
    "performance[\"Model\"] = performance.index"
   ]
  },
  {
   "cell_type": "code",
   "execution_count": 12,
   "metadata": {},
   "outputs": [
    {
     "data": {
      "text/html": [
       "<div>\n",
       "<style scoped>\n",
       "    .dataframe tbody tr th:only-of-type {\n",
       "        vertical-align: middle;\n",
       "    }\n",
       "\n",
       "    .dataframe tbody tr th {\n",
       "        vertical-align: top;\n",
       "    }\n",
       "\n",
       "    .dataframe thead th {\n",
       "        text-align: right;\n",
       "    }\n",
       "</style>\n",
       "<table border=\"1\" class=\"dataframe\">\n",
       "  <thead>\n",
       "    <tr style=\"text-align: right;\">\n",
       "      <th></th>\n",
       "      <th>Accuracy</th>\n",
       "      <th>Precision</th>\n",
       "      <th>Recall</th>\n",
       "      <th>F1 Score</th>\n",
       "      <th>Model</th>\n",
       "    </tr>\n",
       "  </thead>\n",
       "  <tbody>\n",
       "    <tr>\n",
       "      <th>XGB GPU</th>\n",
       "      <td>1.0</td>\n",
       "      <td>1.0</td>\n",
       "      <td>1.0</td>\n",
       "      <td>1.0</td>\n",
       "      <td>XGB GPU</td>\n",
       "    </tr>\n",
       "    <tr>\n",
       "      <th>XGBRF GPU</th>\n",
       "      <td>0.999361</td>\n",
       "      <td>0.99914</td>\n",
       "      <td>0.999579</td>\n",
       "      <td>0.999356</td>\n",
       "      <td>XGBRF GPU</td>\n",
       "    </tr>\n",
       "    <tr>\n",
       "      <th>XGB</th>\n",
       "      <td>0.999681</td>\n",
       "      <td>0.99957</td>\n",
       "      <td>0.999789</td>\n",
       "      <td>0.999679</td>\n",
       "      <td>XGB</td>\n",
       "    </tr>\n",
       "    <tr>\n",
       "      <th>XGBRF</th>\n",
       "      <td>0.999361</td>\n",
       "      <td>0.99914</td>\n",
       "      <td>0.999579</td>\n",
       "      <td>0.999356</td>\n",
       "      <td>XGBRF</td>\n",
       "    </tr>\n",
       "    <tr>\n",
       "      <th>Desicion Tree</th>\n",
       "      <td>1.0</td>\n",
       "      <td>1.0</td>\n",
       "      <td>1.0</td>\n",
       "      <td>1.0</td>\n",
       "      <td>Desicion Tree</td>\n",
       "    </tr>\n",
       "    <tr>\n",
       "      <th>AdaBoost</th>\n",
       "      <td>0.43213</td>\n",
       "      <td>0.333333</td>\n",
       "      <td>0.269732</td>\n",
       "      <td>0.280198</td>\n",
       "      <td>AdaBoost</td>\n",
       "    </tr>\n",
       "    <tr>\n",
       "      <th>Bagging Classifier</th>\n",
       "      <td>1.0</td>\n",
       "      <td>1.0</td>\n",
       "      <td>1.0</td>\n",
       "      <td>1.0</td>\n",
       "      <td>Bagging Classifier</td>\n",
       "    </tr>\n",
       "    <tr>\n",
       "      <th>Extra Trees Classifier</th>\n",
       "      <td>1.0</td>\n",
       "      <td>1.0</td>\n",
       "      <td>1.0</td>\n",
       "      <td>1.0</td>\n",
       "      <td>Extra Trees Classifier</td>\n",
       "    </tr>\n",
       "    <tr>\n",
       "      <th>Random Forest</th>\n",
       "      <td>1.0</td>\n",
       "      <td>1.0</td>\n",
       "      <td>1.0</td>\n",
       "      <td>1.0</td>\n",
       "      <td>Random Forest</td>\n",
       "    </tr>\n",
       "    <tr>\n",
       "      <th>KNeighbours</th>\n",
       "      <td>0.468221</td>\n",
       "      <td>0.468959</td>\n",
       "      <td>0.468436</td>\n",
       "      <td>0.458542</td>\n",
       "      <td>KNeighbours</td>\n",
       "    </tr>\n",
       "    <tr>\n",
       "      <th>SVC</th>\n",
       "      <td>0.105078</td>\n",
       "      <td>0.098617</td>\n",
       "      <td>0.028555</td>\n",
       "      <td>0.035896</td>\n",
       "      <td>SVC</td>\n",
       "    </tr>\n",
       "    <tr>\n",
       "      <th>Naive Bayes</th>\n",
       "      <td>0.999361</td>\n",
       "      <td>0.99938</td>\n",
       "      <td>0.999034</td>\n",
       "      <td>0.999202</td>\n",
       "      <td>Naive Bayes</td>\n",
       "    </tr>\n",
       "    <tr>\n",
       "      <th>MLP</th>\n",
       "      <td>0.370169</td>\n",
       "      <td>0.342348</td>\n",
       "      <td>0.336855</td>\n",
       "      <td>0.26756</td>\n",
       "      <td>MLP</td>\n",
       "    </tr>\n",
       "  </tbody>\n",
       "</table>\n",
       "</div>"
      ],
      "text/plain": [
       "                        Accuracy Precision    Recall  F1 Score  \\\n",
       "XGB GPU                      1.0       1.0       1.0       1.0   \n",
       "XGBRF GPU               0.999361   0.99914  0.999579  0.999356   \n",
       "XGB                     0.999681   0.99957  0.999789  0.999679   \n",
       "XGBRF                   0.999361   0.99914  0.999579  0.999356   \n",
       "Desicion Tree                1.0       1.0       1.0       1.0   \n",
       "AdaBoost                 0.43213  0.333333  0.269732  0.280198   \n",
       "Bagging Classifier           1.0       1.0       1.0       1.0   \n",
       "Extra Trees Classifier       1.0       1.0       1.0       1.0   \n",
       "Random Forest                1.0       1.0       1.0       1.0   \n",
       "KNeighbours             0.468221  0.468959  0.468436  0.458542   \n",
       "SVC                     0.105078  0.098617  0.028555  0.035896   \n",
       "Naive Bayes             0.999361   0.99938  0.999034  0.999202   \n",
       "MLP                     0.370169  0.342348  0.336855   0.26756   \n",
       "\n",
       "                                         Model  \n",
       "XGB GPU                                XGB GPU  \n",
       "XGBRF GPU                            XGBRF GPU  \n",
       "XGB                                        XGB  \n",
       "XGBRF                                    XGBRF  \n",
       "Desicion Tree                    Desicion Tree  \n",
       "AdaBoost                              AdaBoost  \n",
       "Bagging Classifier          Bagging Classifier  \n",
       "Extra Trees Classifier  Extra Trees Classifier  \n",
       "Random Forest                    Random Forest  \n",
       "KNeighbours                        KNeighbours  \n",
       "SVC                                        SVC  \n",
       "Naive Bayes                        Naive Bayes  \n",
       "MLP                                        MLP  "
      ]
     },
     "execution_count": 12,
     "metadata": {},
     "output_type": "execute_result"
    }
   ],
   "source": [
    "performance"
   ]
  },
  {
   "cell_type": "markdown",
   "metadata": {},
   "source": [
    "### Performance of Different Models"
   ]
  },
  {
   "cell_type": "code",
   "execution_count": 11,
   "metadata": {},
   "outputs": [
    {
     "data": {
      "text/plain": [
       "<AxesSubplot:>"
      ]
     },
     "execution_count": 11,
     "metadata": {},
     "output_type": "execute_result"
    },
    {
     "data": {
      "image/png": "[encoded data removed]",
      "text/plain": [
       "<Figure size 432x288 with 1 Axes>"
      ]
     },
     "metadata": {
      "needs_background": "light"
     },
     "output_type": "display_data"
    }
   ],
   "source": [
    "performance.plot(kind=\"bar\")"
   ]
  },
  {
   "cell_type": "code",
   "execution_count": 15,
   "metadata": {},
   "outputs": [
    {
     "data": {
      "image/png": "[encoded data removed]",
      "text/plain": [
       "<Figure size 432x288 with 1 Axes>"
      ]
     },
     "metadata": {
      "needs_background": "light"
     },
     "output_type": "display_data"
    }
   ],
   "source": [
    "performance.plot(kind=\"bar\").get_figure().savefig(\"../bar.png\")"
   ]
  },
  {
   "cell_type": "code",
   "execution_count": null,
   "metadata": {},
   "outputs": [],
   "source": []
  }
 ],
 "metadata": {
  "kernelspec": {
   "display_name": "Python 3 (ipykernel)",
   "language": "python",
   "name": "python3"
  },
  "language_info": {
   "codemirror_mode": {
    "name": "ipython",
    "version": 3
   },
   "file_extension": ".py",
   "mimetype": "text/x-python",
   "name": "python",
   "nbconvert_exporter": "python",
   "pygments_lexer": "ipython3",
   "version": "3.9.7"
  }
 },
 "nbformat": 4,
 "nbformat_minor": 4
}
