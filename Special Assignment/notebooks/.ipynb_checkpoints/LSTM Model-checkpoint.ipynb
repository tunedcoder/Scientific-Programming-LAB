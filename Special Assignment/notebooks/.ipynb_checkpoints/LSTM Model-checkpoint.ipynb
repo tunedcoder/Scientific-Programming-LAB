{
 "cells": [
  {
   "cell_type": "markdown",
   "metadata": {},
   "source": [
    "## Importing Libraries"
   ]
  },
  {
   "cell_type": "code",
   "execution_count": 1,
   "metadata": {
    "id": "x8Ws9DAuwq1j"
   },
   "outputs": [],
   "source": [
    "import numpy as np\n",
    "%matplotlib inline \n",
    "import pandas as pd\n",
    "import tensorflow as tf\n",
    "from IPython.display import display, Image\n",
    "from tqdm import tqdm\n",
    "import matplotlib.pyplot as plt\n",
    "from sklearn.preprocessing import MinMaxScaler\n",
    "from sklearn.metrics import mean_squared_error, mean_absolute_error\n",
    "import math"
   ]
  },
  {
   "cell_type": "markdown",
   "metadata": {},
   "source": [
    "### Loading Dataset"
   ]
  },
  {
   "cell_type": "code",
   "execution_count": 2,
   "metadata": {
    "colab": {
     "base_uri": "https://localhost:8080/",
     "height": 488
    },
    "id": "CjB3lfwVwr_h",
    "outputId": "e97cf47b-20ad-4a76-c8dc-ffb5159355e5"
   },
   "outputs": [
    {
     "data": {
      "text/html": [
       "<div>\n",
       "<style scoped>\n",
       "    .dataframe tbody tr th:only-of-type {\n",
       "        vertical-align: middle;\n",
       "    }\n",
       "\n",
       "    .dataframe tbody tr th {\n",
       "        vertical-align: top;\n",
       "    }\n",
       "\n",
       "    .dataframe thead th {\n",
       "        text-align: right;\n",
       "    }\n",
       "</style>\n",
       "<table border=\"1\" class=\"dataframe\">\n",
       "  <thead>\n",
       "    <tr style=\"text-align: right;\">\n",
       "      <th></th>\n",
       "      <th>temp</th>\n",
       "      <th>dew</th>\n",
       "      <th>humidity</th>\n",
       "      <th>windspeed</th>\n",
       "      <th>sealevelpressure</th>\n",
       "      <th>moonphase</th>\n",
       "      <th>Year</th>\n",
       "      <th>Month</th>\n",
       "      <th>Date_split</th>\n",
       "      <th>winddir</th>\n",
       "    </tr>\n",
       "  </thead>\n",
       "  <tbody>\n",
       "    <tr>\n",
       "      <th>0</th>\n",
       "      <td>27.5</td>\n",
       "      <td>10.0</td>\n",
       "      <td>36.87</td>\n",
       "      <td>14.8</td>\n",
       "      <td>1007.2</td>\n",
       "      <td>0.88</td>\n",
       "      <td>2008</td>\n",
       "      <td>4</td>\n",
       "      <td>1</td>\n",
       "      <td>200.0</td>\n",
       "    </tr>\n",
       "    <tr>\n",
       "      <th>1</th>\n",
       "      <td>26.2</td>\n",
       "      <td>8.9</td>\n",
       "      <td>34.64</td>\n",
       "      <td>25.9</td>\n",
       "      <td>1007.6</td>\n",
       "      <td>0.88</td>\n",
       "      <td>2008</td>\n",
       "      <td>4</td>\n",
       "      <td>1</td>\n",
       "      <td>247.5</td>\n",
       "    </tr>\n",
       "    <tr>\n",
       "      <th>2</th>\n",
       "      <td>25.5</td>\n",
       "      <td>12.7</td>\n",
       "      <td>46.64</td>\n",
       "      <td>25.9</td>\n",
       "      <td>1007.7</td>\n",
       "      <td>0.88</td>\n",
       "      <td>2008</td>\n",
       "      <td>4</td>\n",
       "      <td>1</td>\n",
       "      <td>129.6</td>\n",
       "    </tr>\n",
       "    <tr>\n",
       "      <th>3</th>\n",
       "      <td>24.4</td>\n",
       "      <td>13.8</td>\n",
       "      <td>55.26</td>\n",
       "      <td>7.6</td>\n",
       "      <td>1009.4</td>\n",
       "      <td>0.88</td>\n",
       "      <td>2008</td>\n",
       "      <td>4</td>\n",
       "      <td>1</td>\n",
       "      <td>271.3</td>\n",
       "    </tr>\n",
       "    <tr>\n",
       "      <th>4</th>\n",
       "      <td>26.2</td>\n",
       "      <td>21.1</td>\n",
       "      <td>74.45</td>\n",
       "      <td>11.2</td>\n",
       "      <td>1010.6</td>\n",
       "      <td>0.88</td>\n",
       "      <td>2008</td>\n",
       "      <td>4</td>\n",
       "      <td>1</td>\n",
       "      <td>236.7</td>\n",
       "    </tr>\n",
       "    <tr>\n",
       "      <th>...</th>\n",
       "      <td>...</td>\n",
       "      <td>...</td>\n",
       "      <td>...</td>\n",
       "      <td>...</td>\n",
       "      <td>...</td>\n",
       "      <td>...</td>\n",
       "      <td>...</td>\n",
       "      <td>...</td>\n",
       "      <td>...</td>\n",
       "      <td>...</td>\n",
       "    </tr>\n",
       "    <tr>\n",
       "      <th>12519</th>\n",
       "      <td>28.7</td>\n",
       "      <td>26.1</td>\n",
       "      <td>86.38</td>\n",
       "      <td>19.4</td>\n",
       "      <td>1006.1</td>\n",
       "      <td>0.69</td>\n",
       "      <td>2021</td>\n",
       "      <td>6</td>\n",
       "      <td>30</td>\n",
       "      <td>165.5</td>\n",
       "    </tr>\n",
       "    <tr>\n",
       "      <th>12520</th>\n",
       "      <td>37.7</td>\n",
       "      <td>19.5</td>\n",
       "      <td>36.84</td>\n",
       "      <td>27.7</td>\n",
       "      <td>997.1</td>\n",
       "      <td>0.69</td>\n",
       "      <td>2021</td>\n",
       "      <td>6</td>\n",
       "      <td>30</td>\n",
       "      <td>240.9</td>\n",
       "    </tr>\n",
       "    <tr>\n",
       "      <th>12521</th>\n",
       "      <td>28.4</td>\n",
       "      <td>24.6</td>\n",
       "      <td>80.19</td>\n",
       "      <td>16.6</td>\n",
       "      <td>997.2</td>\n",
       "      <td>0.69</td>\n",
       "      <td>2021</td>\n",
       "      <td>6</td>\n",
       "      <td>30</td>\n",
       "      <td>130.9</td>\n",
       "    </tr>\n",
       "    <tr>\n",
       "      <th>12522</th>\n",
       "      <td>26.2</td>\n",
       "      <td>22.1</td>\n",
       "      <td>79.06</td>\n",
       "      <td>5.4</td>\n",
       "      <td>1006.2</td>\n",
       "      <td>0.69</td>\n",
       "      <td>2021</td>\n",
       "      <td>6</td>\n",
       "      <td>30</td>\n",
       "      <td>270.0</td>\n",
       "    </tr>\n",
       "    <tr>\n",
       "      <th>12523</th>\n",
       "      <td>29.7</td>\n",
       "      <td>26.2</td>\n",
       "      <td>81.68</td>\n",
       "      <td>7.6</td>\n",
       "      <td>1005.3</td>\n",
       "      <td>0.69</td>\n",
       "      <td>2021</td>\n",
       "      <td>6</td>\n",
       "      <td>30</td>\n",
       "      <td>235.0</td>\n",
       "    </tr>\n",
       "  </tbody>\n",
       "</table>\n",
       "<p>12524 rows × 10 columns</p>\n",
       "</div>"
      ],
      "text/plain": [
       "       temp   dew  humidity  windspeed  sealevelpressure  moonphase  Year  \\\n",
       "0      27.5  10.0     36.87       14.8            1007.2       0.88  2008   \n",
       "1      26.2   8.9     34.64       25.9            1007.6       0.88  2008   \n",
       "2      25.5  12.7     46.64       25.9            1007.7       0.88  2008   \n",
       "3      24.4  13.8     55.26        7.6            1009.4       0.88  2008   \n",
       "4      26.2  21.1     74.45       11.2            1010.6       0.88  2008   \n",
       "...     ...   ...       ...        ...               ...        ...   ...   \n",
       "12519  28.7  26.1     86.38       19.4            1006.1       0.69  2021   \n",
       "12520  37.7  19.5     36.84       27.7             997.1       0.69  2021   \n",
       "12521  28.4  24.6     80.19       16.6             997.2       0.69  2021   \n",
       "12522  26.2  22.1     79.06        5.4            1006.2       0.69  2021   \n",
       "12523  29.7  26.2     81.68        7.6            1005.3       0.69  2021   \n",
       "\n",
       "       Month  Date_split  winddir  \n",
       "0          4           1    200.0  \n",
       "1          4           1    247.5  \n",
       "2          4           1    129.6  \n",
       "3          4           1    271.3  \n",
       "4          4           1    236.7  \n",
       "...      ...         ...      ...  \n",
       "12519      6          30    165.5  \n",
       "12520      6          30    240.9  \n",
       "12521      6          30    130.9  \n",
       "12522      6          30    270.0  \n",
       "12523      6          30    235.0  \n",
       "\n",
       "[12524 rows x 10 columns]"
      ]
     },
     "execution_count": 2,
     "metadata": {},
     "output_type": "execute_result"
    }
   ],
   "source": [
    "dataset = pd.read_csv('../Data/Timedf.csv')\n",
    "dataset =dataset.dropna()\n",
    "dataset.reset_index(inplace = True, drop=True)\n",
    "dataset = dataset.drop(columns=\"Unnamed: 0\")\n",
    "dataset"
   ]
  },
  {
   "cell_type": "markdown",
   "metadata": {
    "colab": {
     "base_uri": "https://localhost:8080/"
    },
    "id": "e8U5cTAJwp1t",
    "outputId": "38a18ee7-fee6-4089-c27c-d2c11969814f"
   },
   "source": [
    "### Scaling Dataset"
   ]
  },
  {
   "cell_type": "code",
   "execution_count": 3,
   "metadata": {
    "id": "8eX6Lkl9wtPZ"
   },
   "outputs": [],
   "source": [
    "f_in = dataset.columns.tolist()\n",
    "# f_out = [\"cgroupmemory\", \"cgroupcpu\", \"s_used_mem\", \"s_used_workers\", \"s_used_cpu\", \"t_assigned_cpu\", \"t_assigned_mem\"]\n",
    "f_out = ['temp']\n",
    "\n",
    "S_in = [MinMaxScaler() for i in range(15)]\n",
    "\n",
    "DF = pd.DataFrame(columns = dataset.columns.tolist(),index = dataset.index)\n",
    "for i in range(len(DF.columns)):\n",
    "  # print(dataset[dataset.columns[i]])\n",
    "    col =  dataset[dataset.columns[i]]\n",
    "    scaled_col = S_in[i].fit_transform(np.array(col).reshape(-1,1))\n",
    "    DF[dataset.columns[i]] = scaled_col\n",
    "  # DF[DF.columns[i]] = S_in[i].fit_transform(np.array(dataset[dataset.columns[i]]).reshape(-1,1))\n",
    "\n",
    "S_o = [S_in[f_in.index(c)] for c in f_out]"
   ]
  },
  {
   "cell_type": "code",
   "execution_count": 28,
   "metadata": {
    "id": "JXC1ebtWwu9G"
   },
   "outputs": [],
   "source": [
    "def inv_scale(arr):\n",
    "    unscaled = np.zeros(arr.shape)\n",
    "    for obs in range(len(arr)):\n",
    "        for i in range(1):\n",
    "            unscaled[obs,:] = S_o[0].inverse_transform(arr[obs,:]) \n",
    "  \n",
    "    return unscaled"
   ]
  },
  {
   "cell_type": "markdown",
   "metadata": {
    "colab": {
     "base_uri": "https://localhost:8080/",
     "height": 519
    },
    "id": "_kAVNhP2yAhD",
    "outputId": "21274d35-e201-4a97-8429-c08be47346d2"
   },
   "source": [
    "### Converting Tabular Data to Time Series Data"
   ]
  },
  {
   "cell_type": "code",
   "execution_count": 5,
   "metadata": {
    "id": "xQgsDzIN3oaL"
   },
   "outputs": [],
   "source": [
    "X = DF.copy()\n",
    "y = DF.copy()[f_out]\n",
    "\n",
    "LOOKBACK = 365\n",
    "FORECAST_WINDOW = 15\n",
    "\n",
    "def split_sequence(sequence1, sequence2, look_back, forecast_horizon):\n",
    "    X, y = list(), list()\n",
    "    for i in range(len(sequence1)): \n",
    "        lag_end = i + look_back\n",
    "        forecast_end = lag_end + forecast_horizon\n",
    "        if forecast_end > len(sequence1):\n",
    "            break\n",
    "        seq_x, seq_y = sequence1[i:lag_end], sequence2[lag_end:forecast_end]\n",
    "        X.append(seq_x)\n",
    "        y.append(seq_y)\n",
    "    return np.array(X), np.array(y)\n",
    "\n",
    "X_ss,y_ss = split_sequence(X,y,LOOKBACK,FORECAST_WINDOW)"
   ]
  },
  {
   "cell_type": "code",
   "execution_count": 6,
   "metadata": {
    "id": "sO7eEKvD4pzm"
   },
   "outputs": [],
   "source": [
    "X_train = X_ss[:int(0.80*X_ss.shape[0])]\n",
    "X_test = X_ss[int(0.80*X_ss.shape[0]):]\n",
    "y_train = y_ss[:int(0.80*y_ss.shape[0])]\n",
    "y_test = y_ss[int(0.80*y_ss.shape[0]):]"
   ]
  },
  {
   "cell_type": "code",
   "execution_count": 7,
   "metadata": {
    "colab": {
     "base_uri": "https://localhost:8080/"
    },
    "id": "OxGXXELL6ugX",
    "outputId": "59cb9d83-4ce4-4553-f7a5-317b52ae5e13"
   },
   "outputs": [
    {
     "data": {
      "text/plain": [
       "(9716, 365, 10)"
      ]
     },
     "execution_count": 7,
     "metadata": {},
     "output_type": "execute_result"
    }
   ],
   "source": [
    "X_train.shape"
   ]
  },
  {
   "cell_type": "code",
   "execution_count": 8,
   "metadata": {
    "colab": {
     "base_uri": "https://localhost:8080/"
    },
    "id": "ddj2Lr9963B_",
    "outputId": "e0938e61-6169-4644-8970-2d8280a0033d"
   },
   "outputs": [
    {
     "data": {
      "text/plain": [
       "(9716, 15, 1)"
      ]
     },
     "execution_count": 8,
     "metadata": {},
     "output_type": "execute_result"
    }
   ],
   "source": [
    "y_train.shape"
   ]
  },
  {
   "cell_type": "code",
   "execution_count": 9,
   "metadata": {
    "colab": {
     "base_uri": "https://localhost:8080/"
    },
    "id": "8BgbI5EXC8_2",
    "outputId": "f4c47c51-129c-451d-e7bf-3e51ea34e515"
   },
   "outputs": [
    {
     "data": {
      "text/plain": [
       "(2429, 15, 1)"
      ]
     },
     "execution_count": 9,
     "metadata": {},
     "output_type": "execute_result"
    }
   ],
   "source": [
    "y_test.shape"
   ]
  },
  {
   "cell_type": "markdown",
   "metadata": {},
   "source": [
    "### LSTM Model Desigining"
   ]
  },
  {
   "cell_type": "code",
   "execution_count": 10,
   "metadata": {
    "colab": {
     "base_uri": "https://localhost:8080/"
    },
    "id": "CV9WZuq77oKT",
    "outputId": "c5f14ea9-903e-40cc-aa10-07a26405b75d"
   },
   "outputs": [
    {
     "name": "stderr",
     "output_type": "stream",
     "text": [
      "2022-11-22 01:26:51.080630: I tensorflow/core/common_runtime/gpu/gpu_device.cc:1917] Ignoring visible gpu device (device: 1, name: Quadro P400, pci bus id: 0000:3b:00.0, compute capability: 6.1) with core count: 2. The minimum required count is 8. You can adjust this requirement with the env var TF_MIN_GPU_MULTIPROCESSOR_COUNT.\n",
      "2022-11-22 01:26:51.080903: I tensorflow/core/platform/cpu_feature_guard.cc:142] This TensorFlow binary is optimized with oneAPI Deep Neural Network Library (oneDNN) to use the following CPU instructions in performance-critical operations:  AVX2 AVX512F FMA\n",
      "To enable them in other operations, rebuild TensorFlow with the appropriate compiler flags.\n",
      "2022-11-22 01:26:51.540952: I tensorflow/core/common_runtime/gpu/gpu_device.cc:1510] Created device /job:localhost/replica:0/task:0/device:GPU:0 with 14976 MB memory:  -> device: 0, name: Quadro GP100, pci bus id: 0000:af:00.0, compute capability: 6.0\n"
     ]
    },
    {
     "name": "stdout",
     "output_type": "stream",
     "text": [
      "Model: \"sequential\"\n",
      "_________________________________________________________________\n",
      "Layer (type)                 Output Shape              Param #   \n",
      "=================================================================\n",
      "lstm (LSTM)                  (None, 365, 100)          44400     \n",
      "_________________________________________________________________\n",
      "lstm_1 (LSTM)                (None, 365, 100)          80400     \n",
      "_________________________________________________________________\n",
      "lstm_2 (LSTM)                (None, 50)                30200     \n",
      "_________________________________________________________________\n",
      "dense (Dense)                (None, 50)                2550      \n",
      "_________________________________________________________________\n",
      "dense_1 (Dense)              (None, 15)                765       \n",
      "_________________________________________________________________\n",
      "reshape (Reshape)            (None, 15, 1)             0         \n",
      "=================================================================\n",
      "Total params: 158,315\n",
      "Trainable params: 158,315\n",
      "Non-trainable params: 0\n",
      "_________________________________________________________________\n"
     ]
    }
   ],
   "source": [
    "model = tf.keras.models.Sequential()\n",
    "\n",
    "model.add(tf.keras.layers.LSTM(100,input_shape=(LOOKBACK, 10),return_sequences=True))\n",
    "model.add(tf.keras.layers.LSTM(100,return_sequences=True))\n",
    "model.add(tf.keras.layers.LSTM(50,return_sequences=False))\n",
    "model.add(tf.keras.layers.Dense(50))\n",
    "model.add(tf.keras.layers.Dense(15))\n",
    "model.add(tf.keras.layers.Reshape((15,1)))\n",
    "\n",
    "\n",
    "model.summary()"
   ]
  },
  {
   "cell_type": "code",
   "execution_count": 11,
   "metadata": {
    "id": "F6aT7T3-7tek"
   },
   "outputs": [],
   "source": [
    "model.compile(optimizer= tf.keras.optimizers.Adam(),  loss='mse', metrics=[tf.keras.metrics.RootMeanSquaredError(), tf.keras.metrics.MeanAbsoluteError(), tf.keras.metrics.MeanSquaredError()])"
   ]
  },
  {
   "cell_type": "markdown",
   "metadata": {},
   "source": [
    "### Model Trainng"
   ]
  },
  {
   "cell_type": "code",
   "execution_count": 12,
   "metadata": {
    "colab": {
     "base_uri": "https://localhost:8080/"
    },
    "id": "z36VHIK37vYZ",
    "outputId": "8c5a4003-fd8f-437f-def0-b6792057013a"
   },
   "outputs": [
    {
     "name": "stderr",
     "output_type": "stream",
     "text": [
      "2022-11-22 01:26:52.392711: I tensorflow/compiler/mlir/mlir_graph_optimization_pass.cc:185] None of the MLIR Optimization Passes are enabled (registered 2)\n"
     ]
    },
    {
     "name": "stdout",
     "output_type": "stream",
     "text": [
      "Epoch 1/50\n"
     ]
    },
    {
     "name": "stderr",
     "output_type": "stream",
     "text": [
      "2022-11-22 01:26:55.134153: I tensorflow/stream_executor/cuda/cuda_dnn.cc:369] Loaded cuDNN version 8101\n"
     ]
    },
    {
     "name": "stdout",
     "output_type": "stream",
     "text": [
      "98/98 [==============================] - 11s 77ms/step - loss: 0.0354 - root_mean_squared_error: 0.1880 - mean_absolute_error: 0.1458 - mean_squared_error: 0.0354 - val_loss: 0.0271 - val_root_mean_squared_error: 0.1647 - val_mean_absolute_error: 0.1311 - val_mean_squared_error: 0.0271\n",
      "Epoch 2/50\n",
      "98/98 [==============================] - 7s 67ms/step - loss: 0.0242 - root_mean_squared_error: 0.1556 - mean_absolute_error: 0.1231 - mean_squared_error: 0.0242 - val_loss: 0.0253 - val_root_mean_squared_error: 0.1592 - val_mean_absolute_error: 0.1256 - val_mean_squared_error: 0.0253\n",
      "Epoch 3/50\n",
      "98/98 [==============================] - 7s 67ms/step - loss: 0.0226 - root_mean_squared_error: 0.1503 - mean_absolute_error: 0.1188 - mean_squared_error: 0.0226 - val_loss: 0.0212 - val_root_mean_squared_error: 0.1457 - val_mean_absolute_error: 0.1131 - val_mean_squared_error: 0.0212\n",
      "Epoch 4/50\n",
      "98/98 [==============================] - 6s 66ms/step - loss: 0.0206 - root_mean_squared_error: 0.1435 - mean_absolute_error: 0.1140 - mean_squared_error: 0.0206 - val_loss: 0.0259 - val_root_mean_squared_error: 0.1608 - val_mean_absolute_error: 0.1282 - val_mean_squared_error: 0.0259\n",
      "Epoch 5/50\n",
      "98/98 [==============================] - 7s 67ms/step - loss: 0.0214 - root_mean_squared_error: 0.1463 - mean_absolute_error: 0.1153 - mean_squared_error: 0.0214 - val_loss: 0.0203 - val_root_mean_squared_error: 0.1426 - val_mean_absolute_error: 0.1117 - val_mean_squared_error: 0.0203\n",
      "Epoch 6/50\n",
      "98/98 [==============================] - 7s 71ms/step - loss: 0.0181 - root_mean_squared_error: 0.1344 - mean_absolute_error: 0.1070 - mean_squared_error: 0.0181 - val_loss: 0.0203 - val_root_mean_squared_error: 0.1424 - val_mean_absolute_error: 0.1122 - val_mean_squared_error: 0.0203\n",
      "Epoch 7/50\n",
      "98/98 [==============================] - 7s 68ms/step - loss: 0.0181 - root_mean_squared_error: 0.1344 - mean_absolute_error: 0.1068 - mean_squared_error: 0.0181 - val_loss: 0.0209 - val_root_mean_squared_error: 0.1444 - val_mean_absolute_error: 0.1135 - val_mean_squared_error: 0.0209\n",
      "Epoch 8/50\n",
      "98/98 [==============================] - 6s 66ms/step - loss: 0.0183 - root_mean_squared_error: 0.1355 - mean_absolute_error: 0.1076 - mean_squared_error: 0.0183 - val_loss: 0.0192 - val_root_mean_squared_error: 0.1386 - val_mean_absolute_error: 0.1087 - val_mean_squared_error: 0.0192\n",
      "Epoch 9/50\n",
      "98/98 [==============================] - 6s 65ms/step - loss: 0.0176 - root_mean_squared_error: 0.1328 - mean_absolute_error: 0.1057 - mean_squared_error: 0.0176 - val_loss: 0.0188 - val_root_mean_squared_error: 0.1370 - val_mean_absolute_error: 0.1073 - val_mean_squared_error: 0.0188\n",
      "Epoch 10/50\n",
      "98/98 [==============================] - 6s 65ms/step - loss: 0.0172 - root_mean_squared_error: 0.1311 - mean_absolute_error: 0.1045 - mean_squared_error: 0.0172 - val_loss: 0.0191 - val_root_mean_squared_error: 0.1380 - val_mean_absolute_error: 0.1081 - val_mean_squared_error: 0.0191\n",
      "Epoch 11/50\n",
      "98/98 [==============================] - 6s 61ms/step - loss: 0.0169 - root_mean_squared_error: 0.1299 - mean_absolute_error: 0.1035 - mean_squared_error: 0.0169 - val_loss: 0.0198 - val_root_mean_squared_error: 0.1407 - val_mean_absolute_error: 0.1103 - val_mean_squared_error: 0.0198\n",
      "Epoch 12/50\n",
      "98/98 [==============================] - 6s 63ms/step - loss: 0.0168 - root_mean_squared_error: 0.1295 - mean_absolute_error: 0.1031 - mean_squared_error: 0.0168 - val_loss: 0.0272 - val_root_mean_squared_error: 0.1650 - val_mean_absolute_error: 0.1314 - val_mean_squared_error: 0.0272\n",
      "Epoch 13/50\n",
      "98/98 [==============================] - 6s 62ms/step - loss: 0.0172 - root_mean_squared_error: 0.1313 - mean_absolute_error: 0.1044 - mean_squared_error: 0.0172 - val_loss: 0.0339 - val_root_mean_squared_error: 0.1842 - val_mean_absolute_error: 0.1484 - val_mean_squared_error: 0.0339\n",
      "\n",
      "Epoch 00013: ReduceLROnPlateau reducing learning rate to 0.00020000000949949026.\n",
      "Epoch 14/50\n",
      "98/98 [==============================] - 6s 61ms/step - loss: 0.0167 - root_mean_squared_error: 0.1292 - mean_absolute_error: 0.1031 - mean_squared_error: 0.0167 - val_loss: 0.0176 - val_root_mean_squared_error: 0.1326 - val_mean_absolute_error: 0.1025 - val_mean_squared_error: 0.0176\n",
      "Epoch 15/50\n",
      "98/98 [==============================] - 6s 62ms/step - loss: 0.0162 - root_mean_squared_error: 0.1272 - mean_absolute_error: 0.1011 - mean_squared_error: 0.0162 - val_loss: 0.0174 - val_root_mean_squared_error: 0.1320 - val_mean_absolute_error: 0.1021 - val_mean_squared_error: 0.0174\n",
      "Epoch 16/50\n",
      "98/98 [==============================] - 6s 62ms/step - loss: 0.0161 - root_mean_squared_error: 0.1269 - mean_absolute_error: 0.1009 - mean_squared_error: 0.0161 - val_loss: 0.0173 - val_root_mean_squared_error: 0.1315 - val_mean_absolute_error: 0.1017 - val_mean_squared_error: 0.0173\n",
      "Epoch 17/50\n",
      "98/98 [==============================] - 6s 61ms/step - loss: 0.0160 - root_mean_squared_error: 0.1267 - mean_absolute_error: 0.1007 - mean_squared_error: 0.0160 - val_loss: 0.0172 - val_root_mean_squared_error: 0.1311 - val_mean_absolute_error: 0.1015 - val_mean_squared_error: 0.0172\n",
      "Epoch 18/50\n",
      "98/98 [==============================] - 6s 62ms/step - loss: 0.0160 - root_mean_squared_error: 0.1265 - mean_absolute_error: 0.1005 - mean_squared_error: 0.0160 - val_loss: 0.0171 - val_root_mean_squared_error: 0.1307 - val_mean_absolute_error: 0.1012 - val_mean_squared_error: 0.0171\n",
      "Epoch 19/50\n",
      "98/98 [==============================] - 6s 61ms/step - loss: 0.0160 - root_mean_squared_error: 0.1263 - mean_absolute_error: 0.1004 - mean_squared_error: 0.0160 - val_loss: 0.0170 - val_root_mean_squared_error: 0.1304 - val_mean_absolute_error: 0.1010 - val_mean_squared_error: 0.0170\n",
      "Epoch 20/50\n",
      "98/98 [==============================] - 6s 61ms/step - loss: 0.0159 - root_mean_squared_error: 0.1261 - mean_absolute_error: 0.1002 - mean_squared_error: 0.0159 - val_loss: 0.0169 - val_root_mean_squared_error: 0.1301 - val_mean_absolute_error: 0.1008 - val_mean_squared_error: 0.0169\n",
      "Epoch 21/50\n",
      "98/98 [==============================] - 6s 62ms/step - loss: 0.0159 - root_mean_squared_error: 0.1260 - mean_absolute_error: 0.1001 - mean_squared_error: 0.0159 - val_loss: 0.0169 - val_root_mean_squared_error: 0.1299 - val_mean_absolute_error: 0.1006 - val_mean_squared_error: 0.0169\n",
      "Epoch 22/50\n",
      "98/98 [==============================] - 6s 61ms/step - loss: 0.0158 - root_mean_squared_error: 0.1258 - mean_absolute_error: 0.1000 - mean_squared_error: 0.0158 - val_loss: 0.0168 - val_root_mean_squared_error: 0.1297 - val_mean_absolute_error: 0.1004 - val_mean_squared_error: 0.0168\n",
      "Epoch 23/50\n",
      "98/98 [==============================] - 6s 60ms/step - loss: 0.0158 - root_mean_squared_error: 0.1257 - mean_absolute_error: 0.0999 - mean_squared_error: 0.0158 - val_loss: 0.0168 - val_root_mean_squared_error: 0.1295 - val_mean_absolute_error: 0.1003 - val_mean_squared_error: 0.0168\n",
      "Epoch 24/50\n",
      "98/98 [==============================] - 6s 61ms/step - loss: 0.0158 - root_mean_squared_error: 0.1256 - mean_absolute_error: 0.0998 - mean_squared_error: 0.0158 - val_loss: 0.0167 - val_root_mean_squared_error: 0.1293 - val_mean_absolute_error: 0.1001 - val_mean_squared_error: 0.0167\n",
      "Epoch 25/50\n",
      "98/98 [==============================] - 6s 62ms/step - loss: 0.0157 - root_mean_squared_error: 0.1255 - mean_absolute_error: 0.0997 - mean_squared_error: 0.0157 - val_loss: 0.0167 - val_root_mean_squared_error: 0.1291 - val_mean_absolute_error: 0.1000 - val_mean_squared_error: 0.0167\n",
      "Epoch 26/50\n",
      "98/98 [==============================] - 6s 61ms/step - loss: 0.0157 - root_mean_squared_error: 0.1254 - mean_absolute_error: 0.0996 - mean_squared_error: 0.0157 - val_loss: 0.0166 - val_root_mean_squared_error: 0.1290 - val_mean_absolute_error: 0.0998 - val_mean_squared_error: 0.0166\n",
      "Epoch 27/50\n",
      "98/98 [==============================] - 6s 57ms/step - loss: 0.0157 - root_mean_squared_error: 0.1254 - mean_absolute_error: 0.0996 - mean_squared_error: 0.0157 - val_loss: 0.0166 - val_root_mean_squared_error: 0.1288 - val_mean_absolute_error: 0.0997 - val_mean_squared_error: 0.0166\n",
      "Epoch 28/50\n",
      "98/98 [==============================] - 6s 61ms/step - loss: 0.0157 - root_mean_squared_error: 0.1253 - mean_absolute_error: 0.0995 - mean_squared_error: 0.0157 - val_loss: 0.0166 - val_root_mean_squared_error: 0.1287 - val_mean_absolute_error: 0.0995 - val_mean_squared_error: 0.0166\n",
      "Epoch 29/50\n",
      "98/98 [==============================] - 6s 61ms/step - loss: 0.0157 - root_mean_squared_error: 0.1252 - mean_absolute_error: 0.0994 - mean_squared_error: 0.0157 - val_loss: 0.0165 - val_root_mean_squared_error: 0.1284 - val_mean_absolute_error: 0.0994 - val_mean_squared_error: 0.0165\n",
      "Epoch 30/50\n",
      "98/98 [==============================] - 6s 62ms/step - loss: 0.0157 - root_mean_squared_error: 0.1252 - mean_absolute_error: 0.0993 - mean_squared_error: 0.0157 - val_loss: 0.0164 - val_root_mean_squared_error: 0.1282 - val_mean_absolute_error: 0.0992 - val_mean_squared_error: 0.0164\n",
      "Epoch 31/50\n",
      "98/98 [==============================] - 6s 60ms/step - loss: 0.0156 - root_mean_squared_error: 0.1251 - mean_absolute_error: 0.0992 - mean_squared_error: 0.0156 - val_loss: 0.0164 - val_root_mean_squared_error: 0.1279 - val_mean_absolute_error: 0.0990 - val_mean_squared_error: 0.0164\n",
      "Epoch 32/50\n",
      "98/98 [==============================] - 6s 60ms/step - loss: 0.0156 - root_mean_squared_error: 0.1249 - mean_absolute_error: 0.0990 - mean_squared_error: 0.0156 - val_loss: 0.0163 - val_root_mean_squared_error: 0.1276 - val_mean_absolute_error: 0.0988 - val_mean_squared_error: 0.0163\n",
      "Epoch 33/50\n",
      "98/98 [==============================] - 6s 59ms/step - loss: 0.0156 - root_mean_squared_error: 0.1248 - mean_absolute_error: 0.0989 - mean_squared_error: 0.0156 - val_loss: 0.0162 - val_root_mean_squared_error: 0.1273 - val_mean_absolute_error: 0.0985 - val_mean_squared_error: 0.0162\n",
      "Epoch 34/50\n",
      "98/98 [==============================] - 6s 61ms/step - loss: 0.0155 - root_mean_squared_error: 0.1246 - mean_absolute_error: 0.0987 - mean_squared_error: 0.0155 - val_loss: 0.0161 - val_root_mean_squared_error: 0.1269 - val_mean_absolute_error: 0.0983 - val_mean_squared_error: 0.0161\n",
      "Epoch 35/50\n",
      "98/98 [==============================] - 6s 62ms/step - loss: 0.0155 - root_mean_squared_error: 0.1245 - mean_absolute_error: 0.0985 - mean_squared_error: 0.0155 - val_loss: 0.0160 - val_root_mean_squared_error: 0.1266 - val_mean_absolute_error: 0.0981 - val_mean_squared_error: 0.0160\n",
      "Epoch 36/50\n",
      "98/98 [==============================] - 6s 61ms/step - loss: 0.0155 - root_mean_squared_error: 0.1243 - mean_absolute_error: 0.0983 - mean_squared_error: 0.0155 - val_loss: 0.0160 - val_root_mean_squared_error: 0.1264 - val_mean_absolute_error: 0.0980 - val_mean_squared_error: 0.0160\n",
      "Epoch 37/50\n",
      "98/98 [==============================] - 6s 61ms/step - loss: 0.0154 - root_mean_squared_error: 0.1242 - mean_absolute_error: 0.0982 - mean_squared_error: 0.0154 - val_loss: 0.0159 - val_root_mean_squared_error: 0.1262 - val_mean_absolute_error: 0.0979 - val_mean_squared_error: 0.0159\n",
      "Epoch 38/50\n",
      "98/98 [==============================] - 6s 62ms/step - loss: 0.0154 - root_mean_squared_error: 0.1240 - mean_absolute_error: 0.0981 - mean_squared_error: 0.0154 - val_loss: 0.0159 - val_root_mean_squared_error: 0.1260 - val_mean_absolute_error: 0.0978 - val_mean_squared_error: 0.0159\n",
      "Epoch 39/50\n",
      "98/98 [==============================] - 6s 61ms/step - loss: 0.0153 - root_mean_squared_error: 0.1239 - mean_absolute_error: 0.0980 - mean_squared_error: 0.0153 - val_loss: 0.0158 - val_root_mean_squared_error: 0.1259 - val_mean_absolute_error: 0.0978 - val_mean_squared_error: 0.0158\n",
      "Epoch 40/50\n",
      "98/98 [==============================] - 6s 61ms/step - loss: 0.0153 - root_mean_squared_error: 0.1237 - mean_absolute_error: 0.0979 - mean_squared_error: 0.0153 - val_loss: 0.0158 - val_root_mean_squared_error: 0.1258 - val_mean_absolute_error: 0.0977 - val_mean_squared_error: 0.0158\n",
      "Epoch 41/50\n",
      "98/98 [==============================] - 6s 61ms/step - loss: 0.0153 - root_mean_squared_error: 0.1236 - mean_absolute_error: 0.0979 - mean_squared_error: 0.0153 - val_loss: 0.0158 - val_root_mean_squared_error: 0.1256 - val_mean_absolute_error: 0.0976 - val_mean_squared_error: 0.0158\n",
      "Epoch 42/50\n",
      "98/98 [==============================] - 6s 62ms/step - loss: 0.0153 - root_mean_squared_error: 0.1235 - mean_absolute_error: 0.0978 - mean_squared_error: 0.0153 - val_loss: 0.0158 - val_root_mean_squared_error: 0.1255 - val_mean_absolute_error: 0.0975 - val_mean_squared_error: 0.0158\n",
      "Epoch 43/50\n",
      "98/98 [==============================] - 6s 60ms/step - loss: 0.0152 - root_mean_squared_error: 0.1235 - mean_absolute_error: 0.0978 - mean_squared_error: 0.0152 - val_loss: 0.0157 - val_root_mean_squared_error: 0.1255 - val_mean_absolute_error: 0.0974 - val_mean_squared_error: 0.0157\n",
      "Epoch 44/50\n",
      "98/98 [==============================] - 6s 61ms/step - loss: 0.0152 - root_mean_squared_error: 0.1234 - mean_absolute_error: 0.0977 - mean_squared_error: 0.0152 - val_loss: 0.0157 - val_root_mean_squared_error: 0.1254 - val_mean_absolute_error: 0.0974 - val_mean_squared_error: 0.0157\n",
      "\n",
      "Epoch 00044: ReduceLROnPlateau reducing learning rate to 4.0000001899898055e-05.\n",
      "Epoch 45/50\n",
      "98/98 [==============================] - 6s 62ms/step - loss: 0.0151 - root_mean_squared_error: 0.1229 - mean_absolute_error: 0.0973 - mean_squared_error: 0.0151 - val_loss: 0.0162 - val_root_mean_squared_error: 0.1271 - val_mean_absolute_error: 0.0989 - val_mean_squared_error: 0.0162\n",
      "Epoch 46/50\n",
      "98/98 [==============================] - 6s 62ms/step - loss: 0.0151 - root_mean_squared_error: 0.1228 - mean_absolute_error: 0.0971 - mean_squared_error: 0.0151 - val_loss: 0.0161 - val_root_mean_squared_error: 0.1270 - val_mean_absolute_error: 0.0988 - val_mean_squared_error: 0.0161\n",
      "Epoch 47/50\n",
      "98/98 [==============================] - 6s 61ms/step - loss: 0.0151 - root_mean_squared_error: 0.1227 - mean_absolute_error: 0.0970 - mean_squared_error: 0.0151 - val_loss: 0.0161 - val_root_mean_squared_error: 0.1269 - val_mean_absolute_error: 0.0987 - val_mean_squared_error: 0.0161\n",
      "Epoch 48/50\n",
      "98/98 [==============================] - 6s 61ms/step - loss: 0.0150 - root_mean_squared_error: 0.1227 - mean_absolute_error: 0.0970 - mean_squared_error: 0.0150 - val_loss: 0.0161 - val_root_mean_squared_error: 0.1269 - val_mean_absolute_error: 0.0986 - val_mean_squared_error: 0.0161\n",
      "\n",
      "Epoch 00048: ReduceLROnPlateau reducing learning rate to 8.000000525498762e-06.\n",
      "Epoch 49/50\n",
      "98/98 [==============================] - 6s 61ms/step - loss: 0.0151 - root_mean_squared_error: 0.1227 - mean_absolute_error: 0.0970 - mean_squared_error: 0.0151 - val_loss: 0.0165 - val_root_mean_squared_error: 0.1285 - val_mean_absolute_error: 0.0999 - val_mean_squared_error: 0.0165\n",
      "Epoch 50/50\n",
      "98/98 [==============================] - 6s 61ms/step - loss: 0.0150 - root_mean_squared_error: 0.1227 - mean_absolute_error: 0.0970 - mean_squared_error: 0.0150 - val_loss: 0.0165 - val_root_mean_squared_error: 0.1286 - val_mean_absolute_error: 0.1001 - val_mean_squared_error: 0.0165\n"
     ]
    }
   ],
   "source": [
    "es = tf.keras.callbacks.EarlyStopping( monitor='val_loss', patience=8, verbose=1, restore_best_weights=True)\n",
    "lr_red = tf.keras.callbacks.ReduceLROnPlateau(monitor='val_loss', factor=0.2, patience=4, verbose=1, min_lr=0.0000001)\n",
    "callbacks = [es ,lr_red]\n",
    "\n",
    "history = model.fit(X_train, y_train, epochs=50, batch_size=100,verbose=1,shuffle=False, validation_data=(X_test, y_test), callbacks = callbacks)\n",
    "# history = model.fit(X_train, y_train, epochs=1, batch_size=100,verbose=1,shuffle=False, validation_data=(X_test, y_test))"
   ]
  },
  {
   "cell_type": "code",
   "execution_count": 13,
   "metadata": {
    "id": "ncpQJoDc7zLc"
   },
   "outputs": [
    {
     "name": "stderr",
     "output_type": "stream",
     "text": [
      "2022-11-22 01:32:06.042308: W tensorflow/python/util/util.cc:348] Sets are not currently considered sequences, but this may change in the future, so consider avoiding using them.\n",
      "WARNING:absl:Found untraced functions such as lstm_cell_layer_call_and_return_conditional_losses, lstm_cell_layer_call_fn, lstm_cell_1_layer_call_and_return_conditional_losses, lstm_cell_1_layer_call_fn, lstm_cell_2_layer_call_and_return_conditional_losses while saving (showing 5 of 15). These functions will not be directly callable after loading.\n"
     ]
    },
    {
     "name": "stdout",
     "output_type": "stream",
     "text": [
      "INFO:tensorflow:Assets written to: ../Models/s_e10_h365_p15_s/assets\n"
     ]
    },
    {
     "name": "stderr",
     "output_type": "stream",
     "text": [
      "INFO:tensorflow:Assets written to: ../Models/s_e10_h365_p15_s/assets\n"
     ]
    }
   ],
   "source": [
    "model.save('../Models/s_e10_h365_p15_s')"
   ]
  },
  {
   "cell_type": "code",
   "execution_count": 14,
   "metadata": {
    "colab": {
     "base_uri": "https://localhost:8080/"
    },
    "id": "gYeOUgtV79vE",
    "outputId": "04a30b79-5eee-4832-a608-49204e150fc6"
   },
   "outputs": [],
   "source": [
    "y_pred = model.predict(X_test)"
   ]
  },
  {
   "cell_type": "code",
   "execution_count": 19,
   "metadata": {
    "colab": {
     "base_uri": "https://localhost:8080/"
    },
    "id": "X9o_ez91DJwx",
    "outputId": "5c088c54-5d1b-4e0a-e560-6dbfacbbb2f8"
   },
   "outputs": [
    {
     "data": {
      "text/plain": [
       "(2429, 15, 1)"
      ]
     },
     "execution_count": 19,
     "metadata": {},
     "output_type": "execute_result"
    }
   ],
   "source": [
    "y_pred.shape"
   ]
  },
  {
   "cell_type": "code",
   "execution_count": 29,
   "metadata": {
    "id": "d2WWZ8kn8dFa"
   },
   "outputs": [],
   "source": [
    "y_pred_us = inv_scale(y_pred)\n",
    "y_test_us = inv_scale(y_test)"
   ]
  },
  {
   "cell_type": "markdown",
   "metadata": {
    "colab": {
     "base_uri": "https://localhost:8080/"
    },
    "id": "R6hXgzx7nIOk",
    "outputId": "94956e56-8896-4b21-8904-13639eae5710"
   },
   "source": [
    "### Getting Prediction vs Ground-Truth Plots"
   ]
  },
  {
   "cell_type": "code",
   "execution_count": 30,
   "metadata": {
    "id": "xI8GGBhK9Nnl"
   },
   "outputs": [],
   "source": [
    "def plot_line(i):\n",
    "  plt.plot(y_test_us[:,i], label = \"Ground Truth\")\n",
    "  plt.plot(y_pred_us[:,i], label = \"Predicted\")\n",
    "  # plt.ylim(bottom=0)\n",
    "  plt.legend()\n",
    "  plt.show()"
   ]
  },
  {
   "cell_type": "code",
   "execution_count": 35,
   "metadata": {
    "colab": {
     "base_uri": "https://localhost:8080/",
     "height": 268
    },
    "id": "TCZXWeolouY2",
    "outputId": "e117a9eb-f350-4481-b4fe-181a629942f5"
   },
   "outputs": [
    {
     "data": {
      "image/png": "[encoded data removed]",
      "text/plain": [
       "<Figure size 432x288 with 1 Axes>"
      ]
     },
     "metadata": {
      "needs_background": "light"
     },
     "output_type": "display_data"
    },
    {
     "data": {
      "text/plain": [
       "<Figure size 432x288 with 0 Axes>"
      ]
     },
     "metadata": {},
     "output_type": "display_data"
    }
   ],
   "source": [
    "plot_line(3)\n",
    "plt.xlabel(\"Index\")\n",
    "plt.ylabel(\"Temprature\")\n",
    "plt.savefig('actual vs predicted.png')"
   ]
  },
  {
   "cell_type": "markdown",
   "metadata": {
    "id": "MOXdN9TE9XyX",
    "tags": []
   },
   "source": [
    "### Plotting Trinaing Performance of LSTM Model"
   ]
  },
  {
   "cell_type": "code",
   "execution_count": 38,
   "metadata": {
    "colab": {
     "base_uri": "https://localhost:8080/",
     "height": 282
    },
    "id": "mImBnYht-Pk6",
    "outputId": "dbce0f96-7807-48fd-8d11-bf7ae3e0d3d0"
   },
   "outputs": [
    {
     "data": {
      "image/png": "[encoded data removed]",
      "text/plain": [
       "<Figure size 432x288 with 1 Axes>"
      ]
     },
     "metadata": {
      "needs_background": "light"
     },
     "output_type": "display_data"
    }
   ],
   "source": [
    "plt.plot(history.history['mean_squared_error'])\n",
    "plt.xlabel(\"Epochs\")\n",
    "plt.ylabel(\"MSE\")\n",
    "plt.savefig('MSE History.png')"
   ]
  },
  {
   "cell_type": "code",
   "execution_count": null,
   "metadata": {
    "id": "T3MRFTfG_zqb"
   },
   "outputs": [],
   "source": []
  },
  {
   "cell_type": "code",
   "execution_count": null,
   "metadata": {},
   "outputs": [],
   "source": []
  },
  {
   "cell_type": "code",
   "execution_count": null,
   "metadata": {},
   "outputs": [],
   "source": []
  }
 ],
 "metadata": {
  "accelerator": "GPU",
  "colab": {
   "provenance": []
  },
  "kernelspec": {
   "display_name": "Python 3 (ipykernel)",
   "language": "python",
   "name": "python3"
  },
  "language_info": {
   "codemirror_mode": {
    "name": "ipython",
    "version": 3
   },
   "file_extension": ".py",
   "mimetype": "text/x-python",
   "name": "python",
   "nbconvert_exporter": "python",
   "pygments_lexer": "ipython3",
   "version": "3.9.7"
  }
 },
 "nbformat": 4,
 "nbformat_minor": 4
}
