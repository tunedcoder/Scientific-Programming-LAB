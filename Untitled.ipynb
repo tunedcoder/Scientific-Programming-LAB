{
 "cells": [
  {
   "cell_type": "code",
   "execution_count": null,
   "id": "fd51b9ae-9aa2-4d51-a838-a366bfe4ba13",
   "metadata": {},
   "outputs": [],
   "source": []
  }
 ],
 "metadata": {
  "kernelspec": {
   "display_name": "20bec027",
   "language": "python",
   "name": "20bec027"
  },
  "language_info": {
   "codemirror_mode": {
    "name": "ipython",
    "version": 3
   },
   "file_extension": ".py",
   "mimetype": "text/x-python",
   "name": "python",
   "nbconvert_exporter": "python",
   "pygments_lexer": "ipython3",
   "version": "3.8.10"
  }
 },
 "nbformat": 4,
 "nbformat_minor": 5
}
